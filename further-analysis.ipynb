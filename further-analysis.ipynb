{
 "cells": [
  {
   "cell_type": "code",
   "execution_count": 1,
   "id": "a042f54f",
   "metadata": {
    "_cell_guid": "b1076dfc-b9ad-4769-8c92-a6c4dae69d19",
    "_uuid": "8f2839f25d086af736a60e9eeb907d3b93b6e0e5",
    "execution": {
     "iopub.execute_input": "2023-04-03T14:27:13.553761Z",
     "iopub.status.busy": "2023-04-03T14:27:13.553063Z",
     "iopub.status.idle": "2023-04-03T14:27:13.571886Z",
     "shell.execute_reply": "2023-04-03T14:27:13.570411Z"
    },
    "papermill": {
     "duration": 0.033664,
     "end_time": "2023-04-03T14:27:13.574962",
     "exception": false,
     "start_time": "2023-04-03T14:27:13.541298",
     "status": "completed"
    },
    "tags": []
   },
   "outputs": [
    {
     "name": "stdout",
     "output_type": "stream",
     "text": [
      "/kaggle/input/cassandra23-ps-2/dataset/sample_submissions.csv\n",
      "/kaggle/input/cassandra23-ps-2/dataset/train_data.csv\n",
      "/kaggle/input/cassandra23-ps-2/dataset/test_data.csv\n"
     ]
    }
   ],
   "source": [
    "# This Python 3 environment comes with many helpful analytics libraries installed\n",
    "# It is defined by the kaggle/python Docker image: https://github.com/kaggle/docker-python\n",
    "# For example, here's several helpful packages to load\n",
    "\n",
    "import numpy as np # linear algebra\n",
    "import pandas as pd # data processing, CSV file I/O (e.g. pd.read_csv)\n",
    "\n",
    "# Input data files are available in the read-only \"../input/\" directory\n",
    "# For example, running this (by clicking run or pressing Shift+Enter) will list all files under the input directory\n",
    "\n",
    "import os\n",
    "for dirname, _, filenames in os.walk('/kaggle/input'):\n",
    "    for filename in filenames:\n",
    "        print(os.path.join(dirname, filename))\n",
    "\n",
    "# You can write up to 20GB to the current directory (/kaggle/working/) that gets preserved as output when you create a version using \"Save & Run All\" \n",
    "# You can also write temporary files to /kaggle/temp/, but they won't be saved outside of the current session"
   ]
  },
  {
   "cell_type": "code",
   "execution_count": 2,
   "id": "69bfa23a",
   "metadata": {
    "execution": {
     "iopub.execute_input": "2023-04-03T14:27:13.597483Z",
     "iopub.status.busy": "2023-04-03T14:27:13.596703Z",
     "iopub.status.idle": "2023-04-03T14:27:15.559172Z",
     "shell.execute_reply": "2023-04-03T14:27:15.557248Z"
    },
    "papermill": {
     "duration": 1.977322,
     "end_time": "2023-04-03T14:27:15.561946",
     "exception": false,
     "start_time": "2023-04-03T14:27:13.584624",
     "status": "completed"
    },
    "tags": []
   },
   "outputs": [],
   "source": [
    "train_df=pd.read_csv('/kaggle/input/cassandra23-ps-2/dataset/train_data.csv',sep=',')\n",
    "test_df=pd.read_csv('/kaggle/input/cassandra23-ps-2/dataset/test_data.csv',sep=',')"
   ]
  },
  {
   "cell_type": "code",
   "execution_count": 3,
   "id": "1a0b3254",
   "metadata": {
    "execution": {
     "iopub.execute_input": "2023-04-03T14:27:15.583530Z",
     "iopub.status.busy": "2023-04-03T14:27:15.582420Z",
     "iopub.status.idle": "2023-04-03T14:27:15.591674Z",
     "shell.execute_reply": "2023-04-03T14:27:15.589214Z"
    },
    "papermill": {
     "duration": 0.023302,
     "end_time": "2023-04-03T14:27:15.595049",
     "exception": false,
     "start_time": "2023-04-03T14:27:15.571747",
     "status": "completed"
    },
    "tags": []
   },
   "outputs": [],
   "source": [
    "test_df1=test_df"
   ]
  },
  {
   "cell_type": "code",
   "execution_count": 4,
   "id": "4fb30a40",
   "metadata": {
    "execution": {
     "iopub.execute_input": "2023-04-03T14:27:15.617558Z",
     "iopub.status.busy": "2023-04-03T14:27:15.617012Z",
     "iopub.status.idle": "2023-04-03T14:27:15.672852Z",
     "shell.execute_reply": "2023-04-03T14:27:15.671143Z"
    },
    "papermill": {
     "duration": 0.07155,
     "end_time": "2023-04-03T14:27:15.676236",
     "exception": false,
     "start_time": "2023-04-03T14:27:15.604686",
     "status": "completed"
    },
    "tags": []
   },
   "outputs": [
    {
     "data": {
      "text/plain": [
       "UID                                   0\n",
       "trip_creation_time                 3515\n",
       "route_schedule_uuid                2895\n",
       "route_type                            0\n",
       "trip_uuid                             0\n",
       "source_center                         0\n",
       "source_name                           0\n",
       "destination_center                  803\n",
       "destination_name                      0\n",
       "od_start_time                         0\n",
       "od_end_time                         720\n",
       "start_scan_to_end_scan                0\n",
       "is_cutoff                             0\n",
       "cutoff_factor                         0\n",
       "cutoff_timestamp                    930\n",
       "actual_distance_to_destination        0\n",
       "osrm_time                         14432\n",
       "osrm_distance                     14432\n",
       "factor                             1644\n",
       "segment_actual_time                   0\n",
       "segment_osrm_time                     0\n",
       "segment_osrm_distance                 0\n",
       "segment_factor                     1159\n",
       "actual_time                           0\n",
       "dtype: int64"
      ]
     },
     "execution_count": 4,
     "metadata": {},
     "output_type": "execute_result"
    }
   ],
   "source": [
    "train_df.isnull().sum()"
   ]
  },
  {
   "cell_type": "code",
   "execution_count": 5,
   "id": "2432b076",
   "metadata": {
    "execution": {
     "iopub.execute_input": "2023-04-03T14:27:15.697879Z",
     "iopub.status.busy": "2023-04-03T14:27:15.697503Z",
     "iopub.status.idle": "2023-04-03T14:27:15.875850Z",
     "shell.execute_reply": "2023-04-03T14:27:15.874159Z"
    },
    "papermill": {
     "duration": 0.192395,
     "end_time": "2023-04-03T14:27:15.878670",
     "exception": false,
     "start_time": "2023-04-03T14:27:15.686275",
     "status": "completed"
    },
    "tags": []
   },
   "outputs": [
    {
     "data": {
      "text/plain": [
       "UID                               72158\n",
       "trip_creation_time                13386\n",
       "route_schedule_uuid                1469\n",
       "route_type                            2\n",
       "trip_uuid                         13535\n",
       "source_center                      1456\n",
       "source_name                        1456\n",
       "destination_center                 1433\n",
       "destination_name                   1433\n",
       "od_start_time                     22127\n",
       "od_end_time                       22060\n",
       "start_scan_to_end_scan            72158\n",
       "is_cutoff                             2\n",
       "cutoff_factor                       456\n",
       "cutoff_timestamp                  54191\n",
       "actual_distance_to_destination    72158\n",
       "osrm_time                         57726\n",
       "osrm_distance                     57726\n",
       "factor                            70514\n",
       "segment_actual_time               72158\n",
       "segment_osrm_time                 72158\n",
       "segment_osrm_distance             72158\n",
       "segment_factor                    70999\n",
       "actual_time                        2975\n",
       "dtype: int64"
      ]
     },
     "execution_count": 5,
     "metadata": {},
     "output_type": "execute_result"
    }
   ],
   "source": [
    "train_df.nunique()"
   ]
  },
  {
   "cell_type": "code",
   "execution_count": 6,
   "id": "a93e2c4e",
   "metadata": {
    "execution": {
     "iopub.execute_input": "2023-04-03T14:27:15.898985Z",
     "iopub.status.busy": "2023-04-03T14:27:15.898616Z",
     "iopub.status.idle": "2023-04-03T14:27:15.910731Z",
     "shell.execute_reply": "2023-04-03T14:27:15.909078Z"
    },
    "papermill": {
     "duration": 0.025316,
     "end_time": "2023-04-03T14:27:15.913771",
     "exception": false,
     "start_time": "2023-04-03T14:27:15.888455",
     "status": "completed"
    },
    "tags": []
   },
   "outputs": [
    {
     "name": "stdout",
     "output_type": "stream",
     "text": [
      "Columns which have Categorical Value is ['UID', 'trip_creation_time', 'route_schedule_uuid', 'route_type', 'trip_uuid', 'source_center', 'source_name', 'destination_center', 'destination_name', 'od_start_time', 'od_end_time', 'cutoff_timestamp']\n",
      "Columns which have Continuos Value is ['start_scan_to_end_scan', 'is_cutoff', 'cutoff_factor', 'actual_distance_to_destination', 'osrm_time', 'osrm_distance', 'factor', 'segment_actual_time', 'segment_osrm_time', 'segment_osrm_distance', 'segment_factor', 'actual_time']\n"
     ]
    }
   ],
   "source": [
    "Cat_value=[] \n",
    "Con_value = []\n",
    "for i in train_df.columns:\n",
    "  if train_df[i].dtype=='object':\n",
    "    Cat_value.append(i)\n",
    "  else :\n",
    "    Con_value.append(i)\n",
    "print(f'Columns which have Categorical Value is {Cat_value}')\n",
    "print(f'Columns which have Continuos Value is {Con_value}')"
   ]
  },
  {
   "cell_type": "code",
   "execution_count": 7,
   "id": "b0a8a32e",
   "metadata": {
    "execution": {
     "iopub.execute_input": "2023-04-03T14:27:15.935543Z",
     "iopub.status.busy": "2023-04-03T14:27:15.935119Z",
     "iopub.status.idle": "2023-04-03T14:27:15.942310Z",
     "shell.execute_reply": "2023-04-03T14:27:15.941101Z"
    },
    "papermill": {
     "duration": 0.020173,
     "end_time": "2023-04-03T14:27:15.944487",
     "exception": false,
     "start_time": "2023-04-03T14:27:15.924314",
     "status": "completed"
    },
    "tags": []
   },
   "outputs": [],
   "source": [
    "Con_value=['start_scan_to_end_scan', 'is_cutoff', 'cutoff_factor', 'actual_distance_to_destination', 'osrm_time', 'osrm_distance', 'factor', 'segment_actual_time', 'segment_osrm_time', 'segment_osrm_distance', 'segment_factor', 'actual_time']\n",
    "Cat_value=['UID', 'trip_creation_time', 'route_schedule_uuid', 'route_type', 'trip_uuid', 'source_center', 'source_name', 'destination_center', 'destination_name', 'od_start_time', 'od_end_time', 'cutoff_timestamp']"
   ]
  },
  {
   "cell_type": "code",
   "execution_count": 8,
   "id": "2d8cf1e6",
   "metadata": {
    "execution": {
     "iopub.execute_input": "2023-04-03T14:27:15.965607Z",
     "iopub.status.busy": "2023-04-03T14:27:15.964158Z",
     "iopub.status.idle": "2023-04-03T14:27:16.234670Z",
     "shell.execute_reply": "2023-04-03T14:27:16.233156Z"
    },
    "papermill": {
     "duration": 0.28378,
     "end_time": "2023-04-03T14:27:16.237565",
     "exception": false,
     "start_time": "2023-04-03T14:27:15.953785",
     "status": "completed"
    },
    "tags": []
   },
   "outputs": [],
   "source": [
    "for j in range(np.size(Cat_value)):\n",
    "  train_df[Cat_value[j]].fillna(train_df[Cat_value[j]].mode()[0],inplace=True)"
   ]
  },
  {
   "cell_type": "code",
   "execution_count": 9,
   "id": "715e4139",
   "metadata": {
    "execution": {
     "iopub.execute_input": "2023-04-03T14:27:16.259939Z",
     "iopub.status.busy": "2023-04-03T14:27:16.258851Z",
     "iopub.status.idle": "2023-04-03T14:27:16.275312Z",
     "shell.execute_reply": "2023-04-03T14:27:16.273166Z"
    },
    "papermill": {
     "duration": 0.030716,
     "end_time": "2023-04-03T14:27:16.278242",
     "exception": false,
     "start_time": "2023-04-03T14:27:16.247526",
     "status": "completed"
    },
    "tags": []
   },
   "outputs": [],
   "source": [
    "for i in range(np.size(Con_value)):\n",
    "  train_df[Con_value[i]].fillna(train_df[Con_value[i]].mean(),inplace=True)"
   ]
  },
  {
   "cell_type": "code",
   "execution_count": 10,
   "id": "734edda5",
   "metadata": {
    "execution": {
     "iopub.execute_input": "2023-04-03T14:27:16.300013Z",
     "iopub.status.busy": "2023-04-03T14:27:16.299575Z",
     "iopub.status.idle": "2023-04-03T14:27:16.352088Z",
     "shell.execute_reply": "2023-04-03T14:27:16.350067Z"
    },
    "papermill": {
     "duration": 0.067655,
     "end_time": "2023-04-03T14:27:16.355260",
     "exception": false,
     "start_time": "2023-04-03T14:27:16.287605",
     "status": "completed"
    },
    "tags": []
   },
   "outputs": [],
   "source": [
    "train_df['od_start_time']=pd.to_datetime(train_df['od_start_time'])\n",
    "train_df['od_end_time']=pd.to_datetime(train_df['od_end_time'])"
   ]
  },
  {
   "cell_type": "code",
   "execution_count": 11,
   "id": "d01e51cf",
   "metadata": {
    "execution": {
     "iopub.execute_input": "2023-04-03T14:27:16.378397Z",
     "iopub.status.busy": "2023-04-03T14:27:16.377964Z",
     "iopub.status.idle": "2023-04-03T14:27:16.452031Z",
     "shell.execute_reply": "2023-04-03T14:27:16.450094Z"
    },
    "papermill": {
     "duration": 0.090067,
     "end_time": "2023-04-03T14:27:16.455292",
     "exception": false,
     "start_time": "2023-04-03T14:27:16.365225",
     "status": "completed"
    },
    "tags": []
   },
   "outputs": [],
   "source": [
    "test_df['od_start_time']=pd.to_datetime(test_df['od_start_time'])\n",
    "test_df['od_end_time']=pd.to_datetime(test_df['od_end_time'])"
   ]
  },
  {
   "cell_type": "code",
   "execution_count": 12,
   "id": "34e190dd",
   "metadata": {
    "execution": {
     "iopub.execute_input": "2023-04-03T14:27:16.477854Z",
     "iopub.status.busy": "2023-04-03T14:27:16.477444Z",
     "iopub.status.idle": "2023-04-03T14:27:16.488560Z",
     "shell.execute_reply": "2023-04-03T14:27:16.486152Z"
    },
    "papermill": {
     "duration": 0.026131,
     "end_time": "2023-04-03T14:27:16.491684",
     "exception": false,
     "start_time": "2023-04-03T14:27:16.465553",
     "status": "completed"
    },
    "tags": []
   },
   "outputs": [],
   "source": [
    "train_df['duration']=train_df['od_end_time']-train_df['od_start_time']"
   ]
  },
  {
   "cell_type": "code",
   "execution_count": 13,
   "id": "a2b4ab42",
   "metadata": {
    "execution": {
     "iopub.execute_input": "2023-04-03T14:27:16.512393Z",
     "iopub.status.busy": "2023-04-03T14:27:16.511977Z",
     "iopub.status.idle": "2023-04-03T14:27:16.524594Z",
     "shell.execute_reply": "2023-04-03T14:27:16.522061Z"
    },
    "papermill": {
     "duration": 0.02649,
     "end_time": "2023-04-03T14:27:16.527797",
     "exception": false,
     "start_time": "2023-04-03T14:27:16.501307",
     "status": "completed"
    },
    "tags": []
   },
   "outputs": [],
   "source": [
    "test_df['duration']=test_df['od_end_time']-test_df['od_start_time']\n",
    "test_df['duration'] = test_df['duration'].astype('timedelta64[m]')"
   ]
  },
  {
   "cell_type": "code",
   "execution_count": 14,
   "id": "d3e182b3",
   "metadata": {
    "execution": {
     "iopub.execute_input": "2023-04-03T14:27:16.552073Z",
     "iopub.status.busy": "2023-04-03T14:27:16.551650Z",
     "iopub.status.idle": "2023-04-03T14:27:16.564658Z",
     "shell.execute_reply": "2023-04-03T14:27:16.562142Z"
    },
    "papermill": {
     "duration": 0.029295,
     "end_time": "2023-04-03T14:27:16.568096",
     "exception": false,
     "start_time": "2023-04-03T14:27:16.538801",
     "status": "completed"
    },
    "tags": []
   },
   "outputs": [
    {
     "data": {
      "text/plain": [
       "0       0 days 04:10:17.167444\n",
       "1       0 days 08:10:23.734408\n",
       "2       0 days 07:18:23.809908\n",
       "3       0 days 09:08:49.649866\n",
       "4       0 days 16:47:58.512504\n",
       "                 ...          \n",
       "72153   0 days 09:13:30.257962\n",
       "72154   0 days 02:46:20.663132\n",
       "72155   0 days 03:48:05.093488\n",
       "72156   0 days 11:58:44.707440\n",
       "72157   1 days 14:20:33.406494\n",
       "Name: duration, Length: 72158, dtype: timedelta64[ns]"
      ]
     },
     "execution_count": 14,
     "metadata": {},
     "output_type": "execute_result"
    }
   ],
   "source": [
    "train_df['duration']"
   ]
  },
  {
   "cell_type": "code",
   "execution_count": 15,
   "id": "f4ea071f",
   "metadata": {
    "execution": {
     "iopub.execute_input": "2023-04-03T14:27:16.589215Z",
     "iopub.status.busy": "2023-04-03T14:27:16.588764Z",
     "iopub.status.idle": "2023-04-03T14:27:16.597250Z",
     "shell.execute_reply": "2023-04-03T14:27:16.595991Z"
    },
    "papermill": {
     "duration": 0.023109,
     "end_time": "2023-04-03T14:27:16.600865",
     "exception": false,
     "start_time": "2023-04-03T14:27:16.577756",
     "status": "completed"
    },
    "tags": []
   },
   "outputs": [],
   "source": [
    "train_df['duration'] = train_df['duration'].astype('timedelta64[m]')"
   ]
  },
  {
   "cell_type": "code",
   "execution_count": 16,
   "id": "c5095dea",
   "metadata": {
    "execution": {
     "iopub.execute_input": "2023-04-03T14:27:16.622186Z",
     "iopub.status.busy": "2023-04-03T14:27:16.621724Z",
     "iopub.status.idle": "2023-04-03T14:27:16.648829Z",
     "shell.execute_reply": "2023-04-03T14:27:16.646963Z"
    },
    "papermill": {
     "duration": 0.041695,
     "end_time": "2023-04-03T14:27:16.652355",
     "exception": false,
     "start_time": "2023-04-03T14:27:16.610660",
     "status": "completed"
    },
    "tags": []
   },
   "outputs": [],
   "source": [
    "train_df['trip_creation_time']=pd.to_datetime(train_df['trip_creation_time'])"
   ]
  },
  {
   "cell_type": "code",
   "execution_count": 17,
   "id": "3a3c746e",
   "metadata": {
    "execution": {
     "iopub.execute_input": "2023-04-03T14:27:16.675268Z",
     "iopub.status.busy": "2023-04-03T14:27:16.674761Z",
     "iopub.status.idle": "2023-04-03T14:27:16.710688Z",
     "shell.execute_reply": "2023-04-03T14:27:16.709064Z"
    },
    "papermill": {
     "duration": 0.051491,
     "end_time": "2023-04-03T14:27:16.713581",
     "exception": false,
     "start_time": "2023-04-03T14:27:16.662090",
     "status": "completed"
    },
    "tags": []
   },
   "outputs": [],
   "source": [
    "test_df['trip_creation_time']=pd.to_datetime(test_df['trip_creation_time'])\n",
    "test_df['extra_time']=test_df['od_start_time']-test_df['trip_creation_time']\n",
    "test_df['extra_time']=test_df['extra_time'].astype('timedelta64[m]')\n",
    "test_df['total_duration']=test_df['duration']+test_df['extra_time']"
   ]
  },
  {
   "cell_type": "code",
   "execution_count": 18,
   "id": "05148196",
   "metadata": {
    "execution": {
     "iopub.execute_input": "2023-04-03T14:27:16.734899Z",
     "iopub.status.busy": "2023-04-03T14:27:16.734506Z",
     "iopub.status.idle": "2023-04-03T14:27:16.744787Z",
     "shell.execute_reply": "2023-04-03T14:27:16.742992Z"
    },
    "papermill": {
     "duration": 0.024381,
     "end_time": "2023-04-03T14:27:16.747732",
     "exception": false,
     "start_time": "2023-04-03T14:27:16.723351",
     "status": "completed"
    },
    "tags": []
   },
   "outputs": [],
   "source": [
    "train_df['extra_time']=train_df['od_start_time']-train_df['trip_creation_time']\n",
    "train_df['extra_time']=train_df['extra_time'].astype('timedelta64[m]')"
   ]
  },
  {
   "cell_type": "code",
   "execution_count": 19,
   "id": "58ab66ad",
   "metadata": {
    "execution": {
     "iopub.execute_input": "2023-04-03T14:27:16.768828Z",
     "iopub.status.busy": "2023-04-03T14:27:16.768401Z",
     "iopub.status.idle": "2023-04-03T14:27:16.784207Z",
     "shell.execute_reply": "2023-04-03T14:27:16.781982Z"
    },
    "papermill": {
     "duration": 0.029911,
     "end_time": "2023-04-03T14:27:16.787404",
     "exception": false,
     "start_time": "2023-04-03T14:27:16.757493",
     "status": "completed"
    },
    "tags": []
   },
   "outputs": [
    {
     "data": {
      "text/plain": [
       "0           0.0\n",
       "1         450.0\n",
       "2         340.0\n",
       "3        1736.0\n",
       "4           0.0\n",
       "          ...  \n",
       "72153       0.0\n",
       "72154       0.0\n",
       "72155     318.0\n",
       "72156       0.0\n",
       "72157       0.0\n",
       "Name: extra_time, Length: 72158, dtype: float64"
      ]
     },
     "execution_count": 19,
     "metadata": {},
     "output_type": "execute_result"
    }
   ],
   "source": [
    "train_df['extra_time']"
   ]
  },
  {
   "cell_type": "code",
   "execution_count": 20,
   "id": "3e9e164e",
   "metadata": {
    "execution": {
     "iopub.execute_input": "2023-04-03T14:27:16.809060Z",
     "iopub.status.busy": "2023-04-03T14:27:16.808579Z",
     "iopub.status.idle": "2023-04-03T14:27:16.818308Z",
     "shell.execute_reply": "2023-04-03T14:27:16.816034Z"
    },
    "papermill": {
     "duration": 0.024323,
     "end_time": "2023-04-03T14:27:16.821555",
     "exception": false,
     "start_time": "2023-04-03T14:27:16.797232",
     "status": "completed"
    },
    "tags": []
   },
   "outputs": [],
   "source": [
    "train_df['total_duration']=train_df['duration']+train_df['extra_time']"
   ]
  },
  {
   "cell_type": "code",
   "execution_count": 21,
   "id": "a881ad0d",
   "metadata": {
    "execution": {
     "iopub.execute_input": "2023-04-03T14:27:16.843566Z",
     "iopub.status.busy": "2023-04-03T14:27:16.843149Z",
     "iopub.status.idle": "2023-04-03T14:27:16.852813Z",
     "shell.execute_reply": "2023-04-03T14:27:16.851953Z"
    },
    "papermill": {
     "duration": 0.024033,
     "end_time": "2023-04-03T14:27:16.855512",
     "exception": false,
     "start_time": "2023-04-03T14:27:16.831479",
     "status": "completed"
    },
    "tags": []
   },
   "outputs": [
    {
     "data": {
      "text/plain": [
       "0         250.0\n",
       "1         940.0\n",
       "2         778.0\n",
       "3        2284.0\n",
       "4        1007.0\n",
       "          ...  \n",
       "72153     553.0\n",
       "72154     166.0\n",
       "72155     546.0\n",
       "72156     718.0\n",
       "72157    2300.0\n",
       "Name: total_duration, Length: 72158, dtype: float64"
      ]
     },
     "execution_count": 21,
     "metadata": {},
     "output_type": "execute_result"
    }
   ],
   "source": [
    "train_df['total_duration']"
   ]
  },
  {
   "cell_type": "code",
   "execution_count": 22,
   "id": "541258a8",
   "metadata": {
    "execution": {
     "iopub.execute_input": "2023-04-03T14:27:16.878990Z",
     "iopub.status.busy": "2023-04-03T14:27:16.877673Z",
     "iopub.status.idle": "2023-04-03T14:27:16.967532Z",
     "shell.execute_reply": "2023-04-03T14:27:16.965965Z"
    },
    "papermill": {
     "duration": 0.104133,
     "end_time": "2023-04-03T14:27:16.970066",
     "exception": false,
     "start_time": "2023-04-03T14:27:16.865933",
     "status": "completed"
    },
    "tags": []
   },
   "outputs": [
    {
     "data": {
      "text/html": [
       "<div>\n",
       "<style scoped>\n",
       "    .dataframe tbody tr th:only-of-type {\n",
       "        vertical-align: middle;\n",
       "    }\n",
       "\n",
       "    .dataframe tbody tr th {\n",
       "        vertical-align: top;\n",
       "    }\n",
       "\n",
       "    .dataframe thead th {\n",
       "        text-align: right;\n",
       "    }\n",
       "</style>\n",
       "<table border=\"1\" class=\"dataframe\">\n",
       "  <thead>\n",
       "    <tr style=\"text-align: right;\">\n",
       "      <th></th>\n",
       "      <th>UID</th>\n",
       "      <th>trip_creation_time</th>\n",
       "      <th>route_schedule_uuid</th>\n",
       "      <th>route_type</th>\n",
       "      <th>trip_uuid</th>\n",
       "      <th>source_center</th>\n",
       "      <th>source_name</th>\n",
       "      <th>destination_center</th>\n",
       "      <th>destination_name</th>\n",
       "      <th>od_start_time</th>\n",
       "      <th>...</th>\n",
       "      <th>osrm_distance</th>\n",
       "      <th>factor</th>\n",
       "      <th>segment_actual_time</th>\n",
       "      <th>segment_osrm_time</th>\n",
       "      <th>segment_osrm_distance</th>\n",
       "      <th>segment_factor</th>\n",
       "      <th>actual_time</th>\n",
       "      <th>duration</th>\n",
       "      <th>extra_time</th>\n",
       "      <th>total_duration</th>\n",
       "    </tr>\n",
       "  </thead>\n",
       "  <tbody>\n",
       "    <tr>\n",
       "      <th>0</th>\n",
       "      <td>lWYYrbNEdf</td>\n",
       "      <td>2018-09-15 02:23:18.656742</td>\n",
       "      <td>thanos::sroute:9d8ed3f7-a8af-4393-ad7a-c57a720...</td>\n",
       "      <td>FTL</td>\n",
       "      <td>trip-153697819865649878</td>\n",
       "      <td>IND832109AAB</td>\n",
       "      <td>Jamshedpur_Central_I_3 (Jharkhand)</td>\n",
       "      <td>IND834002AAB</td>\n",
       "      <td>Ranchi_Hub (Jharkhand)</td>\n",
       "      <td>2018-09-15 02:23:18.656742</td>\n",
       "      <td>...</td>\n",
       "      <td>1228.735753</td>\n",
       "      <td>2.782826</td>\n",
       "      <td>77.988686</td>\n",
       "      <td>20.793472</td>\n",
       "      <td>28.475783</td>\n",
       "      <td>3.292773</td>\n",
       "      <td>100.0</td>\n",
       "      <td>250.0</td>\n",
       "      <td>0.0</td>\n",
       "      <td>250.0</td>\n",
       "    </tr>\n",
       "    <tr>\n",
       "      <th>1</th>\n",
       "      <td>iNJcHQlPCm</td>\n",
       "      <td>2018-09-30 15:07:48.971326</td>\n",
       "      <td>thanos::sroute:b9142a73-d68f-46ec-9afc-d145479...</td>\n",
       "      <td>FTL</td>\n",
       "      <td>trip-153832006897106333</td>\n",
       "      <td>IND422011AAD</td>\n",
       "      <td>Nashik_TgrniaRD_I (Maharashtra)</td>\n",
       "      <td>IND421302AAG</td>\n",
       "      <td>Bhiwandi_Mankoli_HB (Maharashtra)</td>\n",
       "      <td>2018-09-30 22:38:13.903069</td>\n",
       "      <td>...</td>\n",
       "      <td>869.045744</td>\n",
       "      <td>3.625248</td>\n",
       "      <td>68.517914</td>\n",
       "      <td>18.787231</td>\n",
       "      <td>34.612259</td>\n",
       "      <td>4.277350</td>\n",
       "      <td>61.0</td>\n",
       "      <td>490.0</td>\n",
       "      <td>450.0</td>\n",
       "      <td>940.0</td>\n",
       "    </tr>\n",
       "    <tr>\n",
       "      <th>2</th>\n",
       "      <td>U6N0M43qwR</td>\n",
       "      <td>2018-09-23 22:15:46.635975</td>\n",
       "      <td>thanos::sroute:883e99fa-50a3-40e0-a2e2-9b12ed6...</td>\n",
       "      <td>FTL</td>\n",
       "      <td>trip-153774094663572416</td>\n",
       "      <td>IND845305AAA</td>\n",
       "      <td>Raxaul_KairiyaT_D (Bihar)</td>\n",
       "      <td>IND000000ACB</td>\n",
       "      <td>Muzaffrpur_Bbganj_I (Bihar)</td>\n",
       "      <td>2018-09-24 03:56:37.016232</td>\n",
       "      <td>...</td>\n",
       "      <td>1188.943158</td>\n",
       "      <td>4.415969</td>\n",
       "      <td>70.475386</td>\n",
       "      <td>24.371978</td>\n",
       "      <td>29.867950</td>\n",
       "      <td>5.322072</td>\n",
       "      <td>69.0</td>\n",
       "      <td>438.0</td>\n",
       "      <td>340.0</td>\n",
       "      <td>778.0</td>\n",
       "    </tr>\n",
       "    <tr>\n",
       "      <th>3</th>\n",
       "      <td>RrJUneuYNj</td>\n",
       "      <td>2018-09-21 05:11:44.833176</td>\n",
       "      <td>thanos::sroute:96a80600-40e1-436b-9161-fa68f9e...</td>\n",
       "      <td>FTL</td>\n",
       "      <td>trip-153750670483274503</td>\n",
       "      <td>IND842001AAA</td>\n",
       "      <td>Muzaffrpur_Bbganj_I (Bihar)</td>\n",
       "      <td>IND854326AAB</td>\n",
       "      <td>Purnia_Central_H_2 (Bihar)</td>\n",
       "      <td>2018-09-22 10:08:32.593022</td>\n",
       "      <td>...</td>\n",
       "      <td>999.421258</td>\n",
       "      <td>2.946647</td>\n",
       "      <td>101.876844</td>\n",
       "      <td>19.588977</td>\n",
       "      <td>27.794019</td>\n",
       "      <td>4.265799</td>\n",
       "      <td>300.0</td>\n",
       "      <td>548.0</td>\n",
       "      <td>1736.0</td>\n",
       "      <td>2284.0</td>\n",
       "    </tr>\n",
       "    <tr>\n",
       "      <th>4</th>\n",
       "      <td>7QLdD7iRC9</td>\n",
       "      <td>2018-09-18 01:10:49.936747</td>\n",
       "      <td>thanos::sroute:b43ec86d-59c1-452c-b4a9-807d357...</td>\n",
       "      <td>FTL</td>\n",
       "      <td>trip-153723305402762987</td>\n",
       "      <td>IND411033AAA</td>\n",
       "      <td>Pune_Tathawde_H (Maharashtra)</td>\n",
       "      <td>IND501359AAE</td>\n",
       "      <td>Hyderabad_Shamshbd_H (Telangana)</td>\n",
       "      <td>2018-09-18 01:10:49.936747</td>\n",
       "      <td>...</td>\n",
       "      <td>869.045744</td>\n",
       "      <td>1.998790</td>\n",
       "      <td>46.571301</td>\n",
       "      <td>22.671495</td>\n",
       "      <td>26.971844</td>\n",
       "      <td>3.553652</td>\n",
       "      <td>286.0</td>\n",
       "      <td>1007.0</td>\n",
       "      <td>0.0</td>\n",
       "      <td>1007.0</td>\n",
       "    </tr>\n",
       "    <tr>\n",
       "      <th>...</th>\n",
       "      <td>...</td>\n",
       "      <td>...</td>\n",
       "      <td>...</td>\n",
       "      <td>...</td>\n",
       "      <td>...</td>\n",
       "      <td>...</td>\n",
       "      <td>...</td>\n",
       "      <td>...</td>\n",
       "      <td>...</td>\n",
       "      <td>...</td>\n",
       "      <td>...</td>\n",
       "      <td>...</td>\n",
       "      <td>...</td>\n",
       "      <td>...</td>\n",
       "      <td>...</td>\n",
       "      <td>...</td>\n",
       "      <td>...</td>\n",
       "      <td>...</td>\n",
       "      <td>...</td>\n",
       "      <td>...</td>\n",
       "      <td>...</td>\n",
       "    </tr>\n",
       "    <tr>\n",
       "      <th>72153</th>\n",
       "      <td>dNuV95njhn</td>\n",
       "      <td>2018-09-29 12:35:30.065739</td>\n",
       "      <td>thanos::sroute:ace9e650-93bd-49ab-9400-8ed7a29...</td>\n",
       "      <td>FTL</td>\n",
       "      <td>trip-153822453006548340</td>\n",
       "      <td>IND501359AAE</td>\n",
       "      <td>Hyderabad_Shamshbd_H (Telangana)</td>\n",
       "      <td>IND585104AAA</td>\n",
       "      <td>Gulbarga_Nehrugnj_I (Karnataka)</td>\n",
       "      <td>2018-09-29 12:35:30.065739</td>\n",
       "      <td>...</td>\n",
       "      <td>1392.622148</td>\n",
       "      <td>1.950803</td>\n",
       "      <td>55.856356</td>\n",
       "      <td>39.233287</td>\n",
       "      <td>46.999351</td>\n",
       "      <td>1.383605</td>\n",
       "      <td>92.0</td>\n",
       "      <td>553.0</td>\n",
       "      <td>0.0</td>\n",
       "      <td>553.0</td>\n",
       "    </tr>\n",
       "    <tr>\n",
       "      <th>72154</th>\n",
       "      <td>ZSrzBfWx77</td>\n",
       "      <td>2018-09-22 11:00:33.571928</td>\n",
       "      <td>thanos::sroute:34b3abb5-f538-4f43-bbeb-5b12c1a...</td>\n",
       "      <td>Carting</td>\n",
       "      <td>trip-153761403357161860</td>\n",
       "      <td>IND562132AAA</td>\n",
       "      <td>Bangalore_Nelmngla_H (Karnataka)</td>\n",
       "      <td>IND560083AAB</td>\n",
       "      <td>Bengaluru_Bnnrghta_L (Karnataka)</td>\n",
       "      <td>2018-09-22 11:00:33.571928</td>\n",
       "      <td>...</td>\n",
       "      <td>869.045744</td>\n",
       "      <td>1.927801</td>\n",
       "      <td>35.976514</td>\n",
       "      <td>13.607794</td>\n",
       "      <td>15.139818</td>\n",
       "      <td>1.456469</td>\n",
       "      <td>30.0</td>\n",
       "      <td>166.0</td>\n",
       "      <td>0.0</td>\n",
       "      <td>166.0</td>\n",
       "    </tr>\n",
       "    <tr>\n",
       "      <th>72155</th>\n",
       "      <td>XsIYBRVK2V</td>\n",
       "      <td>2018-09-14 23:01:12.630742</td>\n",
       "      <td>thanos::sroute:16dbdb8b-1ca6-4d26-a45c-18d378e...</td>\n",
       "      <td>FTL</td>\n",
       "      <td>trip-153696607263047584</td>\n",
       "      <td>IND629179AAA</td>\n",
       "      <td>Marthandam_Nallur_D (Tamil Nadu)</td>\n",
       "      <td>IND627005AAA</td>\n",
       "      <td>Tirunelveli_VdkkuSrt_I (Tamil Nadu)</td>\n",
       "      <td>2018-09-15 04:20:06.629681</td>\n",
       "      <td>...</td>\n",
       "      <td>902.191591</td>\n",
       "      <td>2.148569</td>\n",
       "      <td>44.101033</td>\n",
       "      <td>23.355458</td>\n",
       "      <td>27.510588</td>\n",
       "      <td>2.346207</td>\n",
       "      <td>74.0</td>\n",
       "      <td>228.0</td>\n",
       "      <td>318.0</td>\n",
       "      <td>546.0</td>\n",
       "    </tr>\n",
       "    <tr>\n",
       "      <th>72156</th>\n",
       "      <td>6YwMOShK5E</td>\n",
       "      <td>2018-09-22 06:11:41.998188</td>\n",
       "      <td>thanos::sroute:23372931-5898-4276-970b-0df5070...</td>\n",
       "      <td>FTL</td>\n",
       "      <td>trip-153759670199790692</td>\n",
       "      <td>IND110037AAM</td>\n",
       "      <td>Delhi_Airport_H (Delhi)</td>\n",
       "      <td>IND282001AAA</td>\n",
       "      <td>Agra_Idgah_P (Uttar Pradesh)</td>\n",
       "      <td>2018-09-22 06:11:41.998188</td>\n",
       "      <td>...</td>\n",
       "      <td>1393.905281</td>\n",
       "      <td>2.206373</td>\n",
       "      <td>37.771823</td>\n",
       "      <td>18.740087</td>\n",
       "      <td>29.929128</td>\n",
       "      <td>2.499566</td>\n",
       "      <td>122.0</td>\n",
       "      <td>718.0</td>\n",
       "      <td>0.0</td>\n",
       "      <td>718.0</td>\n",
       "    </tr>\n",
       "    <tr>\n",
       "      <th>72157</th>\n",
       "      <td>K9PVwkfL9T</td>\n",
       "      <td>2018-09-13 05:19:46.622296</td>\n",
       "      <td>thanos::sroute:396d96a3-e2f8-4c40-af0e-056e11f...</td>\n",
       "      <td>FTL</td>\n",
       "      <td>trip-153681598662205172</td>\n",
       "      <td>IND421302AAG</td>\n",
       "      <td>Bhiwandi_Mankoli_HB (Maharashtra)</td>\n",
       "      <td>IND110037AAM</td>\n",
       "      <td>Delhi_Airport_H (Delhi)</td>\n",
       "      <td>2018-09-13 05:19:46.622296</td>\n",
       "      <td>...</td>\n",
       "      <td>869.045744</td>\n",
       "      <td>2.500283</td>\n",
       "      <td>54.154817</td>\n",
       "      <td>27.164272</td>\n",
       "      <td>36.141717</td>\n",
       "      <td>1.858024</td>\n",
       "      <td>565.0</td>\n",
       "      <td>2300.0</td>\n",
       "      <td>0.0</td>\n",
       "      <td>2300.0</td>\n",
       "    </tr>\n",
       "  </tbody>\n",
       "</table>\n",
       "<p>72158 rows × 27 columns</p>\n",
       "</div>"
      ],
      "text/plain": [
       "              UID         trip_creation_time  \\\n",
       "0      lWYYrbNEdf 2018-09-15 02:23:18.656742   \n",
       "1      iNJcHQlPCm 2018-09-30 15:07:48.971326   \n",
       "2      U6N0M43qwR 2018-09-23 22:15:46.635975   \n",
       "3      RrJUneuYNj 2018-09-21 05:11:44.833176   \n",
       "4      7QLdD7iRC9 2018-09-18 01:10:49.936747   \n",
       "...           ...                        ...   \n",
       "72153  dNuV95njhn 2018-09-29 12:35:30.065739   \n",
       "72154  ZSrzBfWx77 2018-09-22 11:00:33.571928   \n",
       "72155  XsIYBRVK2V 2018-09-14 23:01:12.630742   \n",
       "72156  6YwMOShK5E 2018-09-22 06:11:41.998188   \n",
       "72157  K9PVwkfL9T 2018-09-13 05:19:46.622296   \n",
       "\n",
       "                                     route_schedule_uuid route_type  \\\n",
       "0      thanos::sroute:9d8ed3f7-a8af-4393-ad7a-c57a720...        FTL   \n",
       "1      thanos::sroute:b9142a73-d68f-46ec-9afc-d145479...        FTL   \n",
       "2      thanos::sroute:883e99fa-50a3-40e0-a2e2-9b12ed6...        FTL   \n",
       "3      thanos::sroute:96a80600-40e1-436b-9161-fa68f9e...        FTL   \n",
       "4      thanos::sroute:b43ec86d-59c1-452c-b4a9-807d357...        FTL   \n",
       "...                                                  ...        ...   \n",
       "72153  thanos::sroute:ace9e650-93bd-49ab-9400-8ed7a29...        FTL   \n",
       "72154  thanos::sroute:34b3abb5-f538-4f43-bbeb-5b12c1a...    Carting   \n",
       "72155  thanos::sroute:16dbdb8b-1ca6-4d26-a45c-18d378e...        FTL   \n",
       "72156  thanos::sroute:23372931-5898-4276-970b-0df5070...        FTL   \n",
       "72157  thanos::sroute:396d96a3-e2f8-4c40-af0e-056e11f...        FTL   \n",
       "\n",
       "                     trip_uuid source_center  \\\n",
       "0      trip-153697819865649878  IND832109AAB   \n",
       "1      trip-153832006897106333  IND422011AAD   \n",
       "2      trip-153774094663572416  IND845305AAA   \n",
       "3      trip-153750670483274503  IND842001AAA   \n",
       "4      trip-153723305402762987  IND411033AAA   \n",
       "...                        ...           ...   \n",
       "72153  trip-153822453006548340  IND501359AAE   \n",
       "72154  trip-153761403357161860  IND562132AAA   \n",
       "72155  trip-153696607263047584  IND629179AAA   \n",
       "72156  trip-153759670199790692  IND110037AAM   \n",
       "72157  trip-153681598662205172  IND421302AAG   \n",
       "\n",
       "                              source_name destination_center  \\\n",
       "0      Jamshedpur_Central_I_3 (Jharkhand)       IND834002AAB   \n",
       "1         Nashik_TgrniaRD_I (Maharashtra)       IND421302AAG   \n",
       "2               Raxaul_KairiyaT_D (Bihar)       IND000000ACB   \n",
       "3             Muzaffrpur_Bbganj_I (Bihar)       IND854326AAB   \n",
       "4           Pune_Tathawde_H (Maharashtra)       IND501359AAE   \n",
       "...                                   ...                ...   \n",
       "72153    Hyderabad_Shamshbd_H (Telangana)       IND585104AAA   \n",
       "72154    Bangalore_Nelmngla_H (Karnataka)       IND560083AAB   \n",
       "72155    Marthandam_Nallur_D (Tamil Nadu)       IND627005AAA   \n",
       "72156             Delhi_Airport_H (Delhi)       IND282001AAA   \n",
       "72157   Bhiwandi_Mankoli_HB (Maharashtra)       IND110037AAM   \n",
       "\n",
       "                          destination_name              od_start_time  ...  \\\n",
       "0                   Ranchi_Hub (Jharkhand) 2018-09-15 02:23:18.656742  ...   \n",
       "1        Bhiwandi_Mankoli_HB (Maharashtra) 2018-09-30 22:38:13.903069  ...   \n",
       "2              Muzaffrpur_Bbganj_I (Bihar) 2018-09-24 03:56:37.016232  ...   \n",
       "3               Purnia_Central_H_2 (Bihar) 2018-09-22 10:08:32.593022  ...   \n",
       "4         Hyderabad_Shamshbd_H (Telangana) 2018-09-18 01:10:49.936747  ...   \n",
       "...                                    ...                        ...  ...   \n",
       "72153      Gulbarga_Nehrugnj_I (Karnataka) 2018-09-29 12:35:30.065739  ...   \n",
       "72154     Bengaluru_Bnnrghta_L (Karnataka) 2018-09-22 11:00:33.571928  ...   \n",
       "72155  Tirunelveli_VdkkuSrt_I (Tamil Nadu) 2018-09-15 04:20:06.629681  ...   \n",
       "72156         Agra_Idgah_P (Uttar Pradesh) 2018-09-22 06:11:41.998188  ...   \n",
       "72157              Delhi_Airport_H (Delhi) 2018-09-13 05:19:46.622296  ...   \n",
       "\n",
       "      osrm_distance    factor  segment_actual_time  segment_osrm_time  \\\n",
       "0       1228.735753  2.782826            77.988686          20.793472   \n",
       "1        869.045744  3.625248            68.517914          18.787231   \n",
       "2       1188.943158  4.415969            70.475386          24.371978   \n",
       "3        999.421258  2.946647           101.876844          19.588977   \n",
       "4        869.045744  1.998790            46.571301          22.671495   \n",
       "...             ...       ...                  ...                ...   \n",
       "72153   1392.622148  1.950803            55.856356          39.233287   \n",
       "72154    869.045744  1.927801            35.976514          13.607794   \n",
       "72155    902.191591  2.148569            44.101033          23.355458   \n",
       "72156   1393.905281  2.206373            37.771823          18.740087   \n",
       "72157    869.045744  2.500283            54.154817          27.164272   \n",
       "\n",
       "      segment_osrm_distance  segment_factor  actual_time  duration  \\\n",
       "0                 28.475783        3.292773        100.0     250.0   \n",
       "1                 34.612259        4.277350         61.0     490.0   \n",
       "2                 29.867950        5.322072         69.0     438.0   \n",
       "3                 27.794019        4.265799        300.0     548.0   \n",
       "4                 26.971844        3.553652        286.0    1007.0   \n",
       "...                     ...             ...          ...       ...   \n",
       "72153             46.999351        1.383605         92.0     553.0   \n",
       "72154             15.139818        1.456469         30.0     166.0   \n",
       "72155             27.510588        2.346207         74.0     228.0   \n",
       "72156             29.929128        2.499566        122.0     718.0   \n",
       "72157             36.141717        1.858024        565.0    2300.0   \n",
       "\n",
       "       extra_time  total_duration  \n",
       "0             0.0           250.0  \n",
       "1           450.0           940.0  \n",
       "2           340.0           778.0  \n",
       "3          1736.0          2284.0  \n",
       "4             0.0          1007.0  \n",
       "...           ...             ...  \n",
       "72153         0.0           553.0  \n",
       "72154         0.0           166.0  \n",
       "72155       318.0           546.0  \n",
       "72156         0.0           718.0  \n",
       "72157         0.0          2300.0  \n",
       "\n",
       "[72158 rows x 27 columns]"
      ]
     },
     "execution_count": 22,
     "metadata": {},
     "output_type": "execute_result"
    }
   ],
   "source": [
    "train_df"
   ]
  },
  {
   "cell_type": "code",
   "execution_count": 23,
   "id": "dfe0663b",
   "metadata": {
    "execution": {
     "iopub.execute_input": "2023-04-03T14:27:16.995322Z",
     "iopub.status.busy": "2023-04-03T14:27:16.994549Z",
     "iopub.status.idle": "2023-04-03T14:27:17.020500Z",
     "shell.execute_reply": "2023-04-03T14:27:17.019009Z"
    },
    "papermill": {
     "duration": 0.042515,
     "end_time": "2023-04-03T14:27:17.023611",
     "exception": false,
     "start_time": "2023-04-03T14:27:16.981096",
     "status": "completed"
    },
    "tags": []
   },
   "outputs": [],
   "source": [
    "train_df=train_df.drop(columns=['UID','source_name','destination_name','trip_creation_time','od_start_time','od_end_time','cutoff_timestamp','duration','extra_time'])"
   ]
  },
  {
   "cell_type": "code",
   "execution_count": 24,
   "id": "e00cdc5b",
   "metadata": {
    "execution": {
     "iopub.execute_input": "2023-04-03T14:27:17.046617Z",
     "iopub.status.busy": "2023-04-03T14:27:17.046185Z",
     "iopub.status.idle": "2023-04-03T14:27:17.065122Z",
     "shell.execute_reply": "2023-04-03T14:27:17.062948Z"
    },
    "papermill": {
     "duration": 0.034,
     "end_time": "2023-04-03T14:27:17.068262",
     "exception": false,
     "start_time": "2023-04-03T14:27:17.034262",
     "status": "completed"
    },
    "tags": []
   },
   "outputs": [],
   "source": [
    "test_df=test_df.drop(columns=['UID','source_name','destination_name','trip_creation_time','od_start_time','od_end_time','cutoff_timestamp','duration','extra_time'])"
   ]
  },
  {
   "cell_type": "code",
   "execution_count": 25,
   "id": "dabbcbd0",
   "metadata": {
    "execution": {
     "iopub.execute_input": "2023-04-03T14:27:17.092433Z",
     "iopub.status.busy": "2023-04-03T14:27:17.092010Z",
     "iopub.status.idle": "2023-04-03T14:27:17.101466Z",
     "shell.execute_reply": "2023-04-03T14:27:17.099994Z"
    },
    "papermill": {
     "duration": 0.025337,
     "end_time": "2023-04-03T14:27:17.104218",
     "exception": false,
     "start_time": "2023-04-03T14:27:17.078881",
     "status": "completed"
    },
    "tags": []
   },
   "outputs": [
    {
     "name": "stdout",
     "output_type": "stream",
     "text": [
      "Columns which have Categorical Value is ['route_schedule_uuid', 'route_type', 'trip_uuid', 'source_center', 'destination_center']\n",
      "Columns which have Continuos Value is ['start_scan_to_end_scan', 'is_cutoff', 'cutoff_factor', 'actual_distance_to_destination', 'osrm_time', 'osrm_distance', 'factor', 'segment_actual_time', 'segment_osrm_time', 'segment_osrm_distance', 'segment_factor', 'actual_time', 'total_duration']\n"
     ]
    }
   ],
   "source": [
    "Cat_value=[] \n",
    "Con_value = []\n",
    "for i in train_df.columns:\n",
    "  if train_df[i].dtype=='object':\n",
    "    Cat_value.append(i)\n",
    "  else :\n",
    "    Con_value.append(i)\n",
    "print(f'Columns which have Categorical Value is {Cat_value}')\n",
    "print(f'Columns which have Continuos Value is {Con_value}')"
   ]
  },
  {
   "cell_type": "code",
   "execution_count": 26,
   "id": "06477370",
   "metadata": {
    "execution": {
     "iopub.execute_input": "2023-04-03T14:27:17.127560Z",
     "iopub.status.busy": "2023-04-03T14:27:17.127170Z",
     "iopub.status.idle": "2023-04-03T14:27:17.134552Z",
     "shell.execute_reply": "2023-04-03T14:27:17.133004Z"
    },
    "papermill": {
     "duration": 0.022209,
     "end_time": "2023-04-03T14:27:17.137431",
     "exception": false,
     "start_time": "2023-04-03T14:27:17.115222",
     "status": "completed"
    },
    "tags": []
   },
   "outputs": [],
   "source": [
    "Cat_value=['route_schedule_uuid', 'route_type', 'trip_uuid', 'source_center', 'destination_center'] \n",
    "Con_value = ['start_scan_to_end_scan', 'is_cutoff', 'cutoff_factor', 'actual_distance_to_destination', 'osrm_time', 'osrm_distance', 'factor', 'segment_actual_time', 'segment_osrm_time', 'segment_osrm_distance', 'segment_factor', 'actual_time', 'duration', 'extra_time', 'total_duration']"
   ]
  },
  {
   "cell_type": "code",
   "execution_count": 27,
   "id": "6b738794",
   "metadata": {
    "execution": {
     "iopub.execute_input": "2023-04-03T14:27:17.159913Z",
     "iopub.status.busy": "2023-04-03T14:27:17.159483Z",
     "iopub.status.idle": "2023-04-03T14:27:17.166616Z",
     "shell.execute_reply": "2023-04-03T14:27:17.164897Z"
    },
    "papermill": {
     "duration": 0.021647,
     "end_time": "2023-04-03T14:27:17.169072",
     "exception": false,
     "start_time": "2023-04-03T14:27:17.147425",
     "status": "completed"
    },
    "tags": []
   },
   "outputs": [
    {
     "name": "stdout",
     "output_type": "stream",
     "text": [
      "15\n"
     ]
    }
   ],
   "source": [
    "print(np.size(Con_value))"
   ]
  },
  {
   "cell_type": "code",
   "execution_count": 28,
   "id": "bdb369ae",
   "metadata": {
    "execution": {
     "iopub.execute_input": "2023-04-03T14:27:17.191139Z",
     "iopub.status.busy": "2023-04-03T14:27:17.190704Z",
     "iopub.status.idle": "2023-04-03T14:27:18.532063Z",
     "shell.execute_reply": "2023-04-03T14:27:18.530733Z"
    },
    "papermill": {
     "duration": 1.355192,
     "end_time": "2023-04-03T14:27:18.534529",
     "exception": false,
     "start_time": "2023-04-03T14:27:17.179337",
     "status": "completed"
    },
    "tags": []
   },
   "outputs": [],
   "source": [
    "from sklearn.preprocessing import LabelEncoder\n",
    "encoder=LabelEncoder()\n",
    "for i in range(np.size(Cat_value)):\n",
    "    \n",
    "#     train_df[Cat_value[i]]=train_df[Cat_value[i]].values.reshape(-1,1)\n",
    "    train_df[Cat_value[i]]= encoder.fit_transform(train_df[Cat_value[i]])"
   ]
  },
  {
   "cell_type": "code",
   "execution_count": 29,
   "id": "579cf767",
   "metadata": {
    "execution": {
     "iopub.execute_input": "2023-04-03T14:27:18.557103Z",
     "iopub.status.busy": "2023-04-03T14:27:18.556573Z",
     "iopub.status.idle": "2023-04-03T14:27:18.691162Z",
     "shell.execute_reply": "2023-04-03T14:27:18.689737Z"
    },
    "papermill": {
     "duration": 0.149294,
     "end_time": "2023-04-03T14:27:18.693950",
     "exception": false,
     "start_time": "2023-04-03T14:27:18.544656",
     "status": "completed"
    },
    "tags": []
   },
   "outputs": [],
   "source": [
    "from sklearn.preprocessing import LabelEncoder\n",
    "encoder=LabelEncoder()\n",
    "for i in range(np.size(Cat_value)):\n",
    "    \n",
    "#     train_df[Cat_value[i]]=train_df[Cat_value[i]].values.reshape(-1,1)\n",
    "    test_df[Cat_value[i]]= encoder.fit_transform(test_df[Cat_value[i]])"
   ]
  },
  {
   "cell_type": "code",
   "execution_count": 30,
   "id": "5dfacec8",
   "metadata": {
    "execution": {
     "iopub.execute_input": "2023-04-03T14:27:18.717992Z",
     "iopub.status.busy": "2023-04-03T14:27:18.717475Z",
     "iopub.status.idle": "2023-04-03T14:27:18.751684Z",
     "shell.execute_reply": "2023-04-03T14:27:18.749679Z"
    },
    "papermill": {
     "duration": 0.049539,
     "end_time": "2023-04-03T14:27:18.754495",
     "exception": false,
     "start_time": "2023-04-03T14:27:18.704956",
     "status": "completed"
    },
    "tags": []
   },
   "outputs": [
    {
     "data": {
      "text/html": [
       "<div>\n",
       "<style scoped>\n",
       "    .dataframe tbody tr th:only-of-type {\n",
       "        vertical-align: middle;\n",
       "    }\n",
       "\n",
       "    .dataframe tbody tr th {\n",
       "        vertical-align: top;\n",
       "    }\n",
       "\n",
       "    .dataframe thead th {\n",
       "        text-align: right;\n",
       "    }\n",
       "</style>\n",
       "<table border=\"1\" class=\"dataframe\">\n",
       "  <thead>\n",
       "    <tr style=\"text-align: right;\">\n",
       "      <th></th>\n",
       "      <th>route_schedule_uuid</th>\n",
       "      <th>route_type</th>\n",
       "      <th>trip_uuid</th>\n",
       "      <th>source_center</th>\n",
       "      <th>destination_center</th>\n",
       "      <th>start_scan_to_end_scan</th>\n",
       "      <th>is_cutoff</th>\n",
       "      <th>cutoff_factor</th>\n",
       "      <th>actual_distance_to_destination</th>\n",
       "      <th>osrm_time</th>\n",
       "      <th>osrm_distance</th>\n",
       "      <th>factor</th>\n",
       "      <th>segment_actual_time</th>\n",
       "      <th>segment_osrm_time</th>\n",
       "      <th>segment_osrm_distance</th>\n",
       "      <th>segment_factor</th>\n",
       "      <th>actual_time</th>\n",
       "      <th>total_duration</th>\n",
       "    </tr>\n",
       "  </thead>\n",
       "  <tbody>\n",
       "    <tr>\n",
       "      <th>0</th>\n",
       "      <td>857</td>\n",
       "      <td>1</td>\n",
       "      <td>2126</td>\n",
       "      <td>1412</td>\n",
       "      <td>1389</td>\n",
       "      <td>713.521495</td>\n",
       "      <td>True</td>\n",
       "      <td>44</td>\n",
       "      <td>158.807515</td>\n",
       "      <td>778.672716</td>\n",
       "      <td>1228.735753</td>\n",
       "      <td>2.782826</td>\n",
       "      <td>77.988686</td>\n",
       "      <td>20.793472</td>\n",
       "      <td>28.475783</td>\n",
       "      <td>3.292773</td>\n",
       "      <td>100.0</td>\n",
       "      <td>250.0</td>\n",
       "    </tr>\n",
       "    <tr>\n",
       "      <th>1</th>\n",
       "      <td>1026</td>\n",
       "      <td>1</td>\n",
       "      <td>11676</td>\n",
       "      <td>584</td>\n",
       "      <td>577</td>\n",
       "      <td>902.759458</td>\n",
       "      <td>True</td>\n",
       "      <td>22</td>\n",
       "      <td>81.388109</td>\n",
       "      <td>227.479029</td>\n",
       "      <td>869.045744</td>\n",
       "      <td>3.625248</td>\n",
       "      <td>68.517914</td>\n",
       "      <td>18.787231</td>\n",
       "      <td>34.612259</td>\n",
       "      <td>4.277350</td>\n",
       "      <td>61.0</td>\n",
       "      <td>940.0</td>\n",
       "    </tr>\n",
       "    <tr>\n",
       "      <th>2</th>\n",
       "      <td>758</td>\n",
       "      <td>1</td>\n",
       "      <td>7806</td>\n",
       "      <td>1427</td>\n",
       "      <td>6</td>\n",
       "      <td>923.666146</td>\n",
       "      <td>True</td>\n",
       "      <td>22</td>\n",
       "      <td>134.486898</td>\n",
       "      <td>400.072069</td>\n",
       "      <td>1188.943158</td>\n",
       "      <td>4.415969</td>\n",
       "      <td>70.475386</td>\n",
       "      <td>24.371978</td>\n",
       "      <td>29.867950</td>\n",
       "      <td>5.322072</td>\n",
       "      <td>69.0</td>\n",
       "      <td>778.0</td>\n",
       "    </tr>\n",
       "    <tr>\n",
       "      <th>3</th>\n",
       "      <td>821</td>\n",
       "      <td>1</td>\n",
       "      <td>6106</td>\n",
       "      <td>1417</td>\n",
       "      <td>1430</td>\n",
       "      <td>705.451567</td>\n",
       "      <td>True</td>\n",
       "      <td>176</td>\n",
       "      <td>262.866674</td>\n",
       "      <td>510.123878</td>\n",
       "      <td>999.421258</td>\n",
       "      <td>2.946647</td>\n",
       "      <td>101.876844</td>\n",
       "      <td>19.588977</td>\n",
       "      <td>27.794019</td>\n",
       "      <td>4.265799</td>\n",
       "      <td>300.0</td>\n",
       "      <td>2284.0</td>\n",
       "    </tr>\n",
       "    <tr>\n",
       "      <th>4</th>\n",
       "      <td>999</td>\n",
       "      <td>1</td>\n",
       "      <td>4001</td>\n",
       "      <td>542</td>\n",
       "      <td>719</td>\n",
       "      <td>1109.682268</td>\n",
       "      <td>True</td>\n",
       "      <td>198</td>\n",
       "      <td>379.389280</td>\n",
       "      <td>645.031637</td>\n",
       "      <td>869.045744</td>\n",
       "      <td>1.998790</td>\n",
       "      <td>46.571301</td>\n",
       "      <td>22.671495</td>\n",
       "      <td>26.971844</td>\n",
       "      <td>3.553652</td>\n",
       "      <td>286.0</td>\n",
       "      <td>1007.0</td>\n",
       "    </tr>\n",
       "    <tr>\n",
       "      <th>...</th>\n",
       "      <td>...</td>\n",
       "      <td>...</td>\n",
       "      <td>...</td>\n",
       "      <td>...</td>\n",
       "      <td>...</td>\n",
       "      <td>...</td>\n",
       "      <td>...</td>\n",
       "      <td>...</td>\n",
       "      <td>...</td>\n",
       "      <td>...</td>\n",
       "      <td>...</td>\n",
       "      <td>...</td>\n",
       "      <td>...</td>\n",
       "      <td>...</td>\n",
       "      <td>...</td>\n",
       "      <td>...</td>\n",
       "      <td>...</td>\n",
       "      <td>...</td>\n",
       "    </tr>\n",
       "    <tr>\n",
       "      <th>72153</th>\n",
       "      <td>957</td>\n",
       "      <td>1</td>\n",
       "      <td>11161</td>\n",
       "      <td>721</td>\n",
       "      <td>954</td>\n",
       "      <td>1132.865742</td>\n",
       "      <td>True</td>\n",
       "      <td>66</td>\n",
       "      <td>135.001150</td>\n",
       "      <td>645.031637</td>\n",
       "      <td>1392.622148</td>\n",
       "      <td>1.950803</td>\n",
       "      <td>55.856356</td>\n",
       "      <td>39.233287</td>\n",
       "      <td>46.999351</td>\n",
       "      <td>1.383605</td>\n",
       "      <td>92.0</td>\n",
       "      <td>553.0</td>\n",
       "    </tr>\n",
       "    <tr>\n",
       "      <th>72154</th>\n",
       "      <td>280</td>\n",
       "      <td>0</td>\n",
       "      <td>6930</td>\n",
       "      <td>885</td>\n",
       "      <td>865</td>\n",
       "      <td>355.951299</td>\n",
       "      <td>True</td>\n",
       "      <td>18</td>\n",
       "      <td>74.245265</td>\n",
       "      <td>374.255819</td>\n",
       "      <td>869.045744</td>\n",
       "      <td>1.927801</td>\n",
       "      <td>35.976514</td>\n",
       "      <td>13.607794</td>\n",
       "      <td>15.139818</td>\n",
       "      <td>1.456469</td>\n",
       "      <td>30.0</td>\n",
       "      <td>166.0</td>\n",
       "    </tr>\n",
       "    <tr>\n",
       "      <th>72155</th>\n",
       "      <td>129</td>\n",
       "      <td>1</td>\n",
       "      <td>1956</td>\n",
       "      <td>1074</td>\n",
       "      <td>1051</td>\n",
       "      <td>737.899031</td>\n",
       "      <td>True</td>\n",
       "      <td>44</td>\n",
       "      <td>54.097087</td>\n",
       "      <td>895.612578</td>\n",
       "      <td>902.191591</td>\n",
       "      <td>2.148569</td>\n",
       "      <td>44.101033</td>\n",
       "      <td>23.355458</td>\n",
       "      <td>27.510588</td>\n",
       "      <td>2.346207</td>\n",
       "      <td>74.0</td>\n",
       "      <td>546.0</td>\n",
       "    </tr>\n",
       "    <tr>\n",
       "      <th>72156</th>\n",
       "      <td>194</td>\n",
       "      <td>1</td>\n",
       "      <td>6839</td>\n",
       "      <td>28</td>\n",
       "      <td>311</td>\n",
       "      <td>845.738186</td>\n",
       "      <td>True</td>\n",
       "      <td>88</td>\n",
       "      <td>99.918631</td>\n",
       "      <td>645.031637</td>\n",
       "      <td>1393.905281</td>\n",
       "      <td>2.206373</td>\n",
       "      <td>37.771823</td>\n",
       "      <td>18.740087</td>\n",
       "      <td>29.929128</td>\n",
       "      <td>2.499566</td>\n",
       "      <td>122.0</td>\n",
       "      <td>718.0</td>\n",
       "    </tr>\n",
       "    <tr>\n",
       "      <th>72157</th>\n",
       "      <td>305</td>\n",
       "      <td>1</td>\n",
       "      <td>851</td>\n",
       "      <td>577</td>\n",
       "      <td>22</td>\n",
       "      <td>2568.330235</td>\n",
       "      <td>True</td>\n",
       "      <td>264</td>\n",
       "      <td>315.762909</td>\n",
       "      <td>645.031637</td>\n",
       "      <td>869.045744</td>\n",
       "      <td>2.500283</td>\n",
       "      <td>54.154817</td>\n",
       "      <td>27.164272</td>\n",
       "      <td>36.141717</td>\n",
       "      <td>1.858024</td>\n",
       "      <td>565.0</td>\n",
       "      <td>2300.0</td>\n",
       "    </tr>\n",
       "  </tbody>\n",
       "</table>\n",
       "<p>72158 rows × 18 columns</p>\n",
       "</div>"
      ],
      "text/plain": [
       "       route_schedule_uuid  route_type  trip_uuid  source_center  \\\n",
       "0                      857           1       2126           1412   \n",
       "1                     1026           1      11676            584   \n",
       "2                      758           1       7806           1427   \n",
       "3                      821           1       6106           1417   \n",
       "4                      999           1       4001            542   \n",
       "...                    ...         ...        ...            ...   \n",
       "72153                  957           1      11161            721   \n",
       "72154                  280           0       6930            885   \n",
       "72155                  129           1       1956           1074   \n",
       "72156                  194           1       6839             28   \n",
       "72157                  305           1        851            577   \n",
       "\n",
       "       destination_center  start_scan_to_end_scan  is_cutoff  cutoff_factor  \\\n",
       "0                    1389              713.521495       True             44   \n",
       "1                     577              902.759458       True             22   \n",
       "2                       6              923.666146       True             22   \n",
       "3                    1430              705.451567       True            176   \n",
       "4                     719             1109.682268       True            198   \n",
       "...                   ...                     ...        ...            ...   \n",
       "72153                 954             1132.865742       True             66   \n",
       "72154                 865              355.951299       True             18   \n",
       "72155                1051              737.899031       True             44   \n",
       "72156                 311              845.738186       True             88   \n",
       "72157                  22             2568.330235       True            264   \n",
       "\n",
       "       actual_distance_to_destination   osrm_time  osrm_distance    factor  \\\n",
       "0                          158.807515  778.672716    1228.735753  2.782826   \n",
       "1                           81.388109  227.479029     869.045744  3.625248   \n",
       "2                          134.486898  400.072069    1188.943158  4.415969   \n",
       "3                          262.866674  510.123878     999.421258  2.946647   \n",
       "4                          379.389280  645.031637     869.045744  1.998790   \n",
       "...                               ...         ...            ...       ...   \n",
       "72153                      135.001150  645.031637    1392.622148  1.950803   \n",
       "72154                       74.245265  374.255819     869.045744  1.927801   \n",
       "72155                       54.097087  895.612578     902.191591  2.148569   \n",
       "72156                       99.918631  645.031637    1393.905281  2.206373   \n",
       "72157                      315.762909  645.031637     869.045744  2.500283   \n",
       "\n",
       "       segment_actual_time  segment_osrm_time  segment_osrm_distance  \\\n",
       "0                77.988686          20.793472              28.475783   \n",
       "1                68.517914          18.787231              34.612259   \n",
       "2                70.475386          24.371978              29.867950   \n",
       "3               101.876844          19.588977              27.794019   \n",
       "4                46.571301          22.671495              26.971844   \n",
       "...                    ...                ...                    ...   \n",
       "72153            55.856356          39.233287              46.999351   \n",
       "72154            35.976514          13.607794              15.139818   \n",
       "72155            44.101033          23.355458              27.510588   \n",
       "72156            37.771823          18.740087              29.929128   \n",
       "72157            54.154817          27.164272              36.141717   \n",
       "\n",
       "       segment_factor  actual_time  total_duration  \n",
       "0            3.292773        100.0           250.0  \n",
       "1            4.277350         61.0           940.0  \n",
       "2            5.322072         69.0           778.0  \n",
       "3            4.265799        300.0          2284.0  \n",
       "4            3.553652        286.0          1007.0  \n",
       "...               ...          ...             ...  \n",
       "72153        1.383605         92.0           553.0  \n",
       "72154        1.456469         30.0           166.0  \n",
       "72155        2.346207         74.0           546.0  \n",
       "72156        2.499566        122.0           718.0  \n",
       "72157        1.858024        565.0          2300.0  \n",
       "\n",
       "[72158 rows x 18 columns]"
      ]
     },
     "execution_count": 30,
     "metadata": {},
     "output_type": "execute_result"
    }
   ],
   "source": [
    "train_df"
   ]
  },
  {
   "cell_type": "code",
   "execution_count": 31,
   "id": "627acc38",
   "metadata": {
    "execution": {
     "iopub.execute_input": "2023-04-03T14:27:18.781072Z",
     "iopub.status.busy": "2023-04-03T14:27:18.780113Z",
     "iopub.status.idle": "2023-04-03T14:27:18.795937Z",
     "shell.execute_reply": "2023-04-03T14:27:18.793708Z"
    },
    "papermill": {
     "duration": 0.03269,
     "end_time": "2023-04-03T14:27:18.799399",
     "exception": false,
     "start_time": "2023-04-03T14:27:18.766709",
     "status": "completed"
    },
    "tags": []
   },
   "outputs": [],
   "source": [
    "x_train = train_df.loc[:, train_df.columns != 'actual_time']\n",
    "y_train = train_df['actual_time']"
   ]
  },
  {
   "cell_type": "code",
   "execution_count": 32,
   "id": "9a2a3494",
   "metadata": {
    "execution": {
     "iopub.execute_input": "2023-04-03T14:27:18.825635Z",
     "iopub.status.busy": "2023-04-03T14:27:18.823942Z",
     "iopub.status.idle": "2023-04-03T14:27:18.833167Z",
     "shell.execute_reply": "2023-04-03T14:27:18.831829Z"
    },
    "papermill": {
     "duration": 0.02531,
     "end_time": "2023-04-03T14:27:18.835929",
     "exception": false,
     "start_time": "2023-04-03T14:27:18.810619",
     "status": "completed"
    },
    "tags": []
   },
   "outputs": [
    {
     "data": {
      "text/plain": [
       "0        100.0\n",
       "1         61.0\n",
       "2         69.0\n",
       "3        300.0\n",
       "4        286.0\n",
       "         ...  \n",
       "72153     92.0\n",
       "72154     30.0\n",
       "72155     74.0\n",
       "72156    122.0\n",
       "72157    565.0\n",
       "Name: actual_time, Length: 72158, dtype: float64"
      ]
     },
     "execution_count": 32,
     "metadata": {},
     "output_type": "execute_result"
    }
   ],
   "source": [
    "y_train"
   ]
  },
  {
   "cell_type": "code",
   "execution_count": 33,
   "id": "a338d262",
   "metadata": {
    "execution": {
     "iopub.execute_input": "2023-04-03T14:27:18.864192Z",
     "iopub.status.busy": "2023-04-03T14:27:18.862947Z",
     "iopub.status.idle": "2023-04-03T14:27:18.969275Z",
     "shell.execute_reply": "2023-04-03T14:27:18.967681Z"
    },
    "papermill": {
     "duration": 0.122858,
     "end_time": "2023-04-03T14:27:18.972310",
     "exception": false,
     "start_time": "2023-04-03T14:27:18.849452",
     "status": "completed"
    },
    "tags": []
   },
   "outputs": [],
   "source": [
    "from sklearn.model_selection import train_test_split\n",
    "x_train1, x_test1, y_train1, y_test1 = train_test_split(x_train, y_train, test_size=0.2, random_state=2084)"
   ]
  },
  {
   "cell_type": "code",
   "execution_count": 34,
   "id": "3aebf3c7",
   "metadata": {
    "execution": {
     "iopub.execute_input": "2023-04-03T14:27:18.997611Z",
     "iopub.status.busy": "2023-04-03T14:27:18.997106Z",
     "iopub.status.idle": "2023-04-03T14:27:34.866243Z",
     "shell.execute_reply": "2023-04-03T14:27:34.865151Z"
    },
    "papermill": {
     "duration": 15.884639,
     "end_time": "2023-04-03T14:27:34.868457",
     "exception": false,
     "start_time": "2023-04-03T14:27:18.983818",
     "status": "completed"
    },
    "tags": []
   },
   "outputs": [
    {
     "name": "stdout",
     "output_type": "stream",
     "text": [
      "[0]\tvalidation_0-rmse:517.34861\tvalidation_1-rmse:515.65713\n",
      "[1]\tvalidation_0-rmse:367.88419\tvalidation_1-rmse:366.93239\n",
      "[2]\tvalidation_0-rmse:264.15747\tvalidation_1-rmse:263.92296\n",
      "[3]\tvalidation_0-rmse:192.90020\tvalidation_1-rmse:193.39494\n",
      "[4]\tvalidation_0-rmse:144.24618\tvalidation_1-rmse:145.49626\n",
      "[5]\tvalidation_0-rmse:112.01694\tvalidation_1-rmse:113.97820\n",
      "[6]\tvalidation_0-rmse:91.14370\tvalidation_1-rmse:94.09809\n",
      "[7]\tvalidation_0-rmse:77.31124\tvalidation_1-rmse:80.68169\n",
      "[8]\tvalidation_0-rmse:68.87336\tvalidation_1-rmse:72.72767\n",
      "[9]\tvalidation_0-rmse:63.65726\tvalidation_1-rmse:67.95149\n",
      "[10]\tvalidation_0-rmse:60.25112\tvalidation_1-rmse:64.89893\n",
      "[11]\tvalidation_0-rmse:57.55674\tvalidation_1-rmse:62.50538\n",
      "[12]\tvalidation_0-rmse:55.36425\tvalidation_1-rmse:60.26830\n",
      "[13]\tvalidation_0-rmse:54.19007\tvalidation_1-rmse:59.23110\n",
      "[14]\tvalidation_0-rmse:52.70987\tvalidation_1-rmse:57.88028\n",
      "[15]\tvalidation_0-rmse:52.12778\tvalidation_1-rmse:57.53281\n",
      "[16]\tvalidation_0-rmse:51.14641\tvalidation_1-rmse:56.50461\n",
      "[17]\tvalidation_0-rmse:50.53061\tvalidation_1-rmse:55.82266\n",
      "[18]\tvalidation_0-rmse:49.74763\tvalidation_1-rmse:55.34547\n",
      "[19]\tvalidation_0-rmse:49.07430\tvalidation_1-rmse:55.03264\n",
      "[20]\tvalidation_0-rmse:48.65606\tvalidation_1-rmse:54.68386\n",
      "[21]\tvalidation_0-rmse:48.26532\tvalidation_1-rmse:54.51820\n",
      "[22]\tvalidation_0-rmse:48.05899\tvalidation_1-rmse:54.41198\n",
      "[23]\tvalidation_0-rmse:47.17508\tvalidation_1-rmse:53.66003\n",
      "[24]\tvalidation_0-rmse:46.94809\tvalidation_1-rmse:53.57576\n",
      "[25]\tvalidation_0-rmse:46.59010\tvalidation_1-rmse:53.34082\n",
      "[26]\tvalidation_0-rmse:46.49379\tvalidation_1-rmse:53.29102\n",
      "[27]\tvalidation_0-rmse:46.33824\tvalidation_1-rmse:53.21219\n",
      "[28]\tvalidation_0-rmse:45.80399\tvalidation_1-rmse:52.55847\n",
      "[29]\tvalidation_0-rmse:45.63648\tvalidation_1-rmse:52.44776\n",
      "[30]\tvalidation_0-rmse:45.46203\tvalidation_1-rmse:52.40140\n",
      "[31]\tvalidation_0-rmse:45.10049\tvalidation_1-rmse:52.23679\n",
      "[32]\tvalidation_0-rmse:44.63249\tvalidation_1-rmse:51.88515\n",
      "[33]\tvalidation_0-rmse:44.50361\tvalidation_1-rmse:51.84461\n",
      "[34]\tvalidation_0-rmse:44.32984\tvalidation_1-rmse:51.75848\n",
      "[35]\tvalidation_0-rmse:44.04762\tvalidation_1-rmse:51.64610\n",
      "[36]\tvalidation_0-rmse:43.96619\tvalidation_1-rmse:51.64536\n",
      "[37]\tvalidation_0-rmse:43.79583\tvalidation_1-rmse:51.48469\n",
      "[38]\tvalidation_0-rmse:43.23546\tvalidation_1-rmse:51.07975\n",
      "[39]\tvalidation_0-rmse:42.72364\tvalidation_1-rmse:50.95350\n",
      "[40]\tvalidation_0-rmse:42.39572\tvalidation_1-rmse:50.69133\n",
      "[41]\tvalidation_0-rmse:42.05973\tvalidation_1-rmse:50.46874\n",
      "[42]\tvalidation_0-rmse:41.86903\tvalidation_1-rmse:50.35083\n",
      "[43]\tvalidation_0-rmse:41.54631\tvalidation_1-rmse:50.18853\n",
      "[44]\tvalidation_0-rmse:41.28096\tvalidation_1-rmse:50.06931\n",
      "[45]\tvalidation_0-rmse:41.18524\tvalidation_1-rmse:50.03077\n",
      "[46]\tvalidation_0-rmse:40.77195\tvalidation_1-rmse:49.68954\n",
      "[47]\tvalidation_0-rmse:40.48357\tvalidation_1-rmse:49.50208\n",
      "[48]\tvalidation_0-rmse:40.40983\tvalidation_1-rmse:49.46450\n",
      "[49]\tvalidation_0-rmse:40.29362\tvalidation_1-rmse:49.28112\n",
      "[50]\tvalidation_0-rmse:40.10058\tvalidation_1-rmse:49.23065\n",
      "[51]\tvalidation_0-rmse:39.81950\tvalidation_1-rmse:49.12600\n",
      "[52]\tvalidation_0-rmse:39.66778\tvalidation_1-rmse:49.11526\n",
      "[53]\tvalidation_0-rmse:39.56760\tvalidation_1-rmse:49.07908\n",
      "[54]\tvalidation_0-rmse:39.19529\tvalidation_1-rmse:48.86650\n",
      "[55]\tvalidation_0-rmse:38.81812\tvalidation_1-rmse:48.67542\n",
      "[56]\tvalidation_0-rmse:38.74146\tvalidation_1-rmse:48.63676\n",
      "[57]\tvalidation_0-rmse:38.56312\tvalidation_1-rmse:48.48768\n",
      "[58]\tvalidation_0-rmse:38.43837\tvalidation_1-rmse:48.45233\n",
      "[59]\tvalidation_0-rmse:38.36042\tvalidation_1-rmse:48.39378\n",
      "[60]\tvalidation_0-rmse:38.01207\tvalidation_1-rmse:48.15927\n",
      "[61]\tvalidation_0-rmse:37.84025\tvalidation_1-rmse:48.12021\n",
      "[62]\tvalidation_0-rmse:37.62594\tvalidation_1-rmse:48.03851\n",
      "[63]\tvalidation_0-rmse:37.54472\tvalidation_1-rmse:48.03126\n",
      "[64]\tvalidation_0-rmse:37.41059\tvalidation_1-rmse:48.01666\n",
      "[65]\tvalidation_0-rmse:37.39463\tvalidation_1-rmse:48.00968\n",
      "[66]\tvalidation_0-rmse:37.31893\tvalidation_1-rmse:47.97891\n",
      "[67]\tvalidation_0-rmse:37.29892\tvalidation_1-rmse:47.94287\n",
      "[68]\tvalidation_0-rmse:37.25108\tvalidation_1-rmse:47.91480\n",
      "[69]\tvalidation_0-rmse:37.21361\tvalidation_1-rmse:47.89327\n",
      "[70]\tvalidation_0-rmse:36.99623\tvalidation_1-rmse:47.72463\n",
      "[71]\tvalidation_0-rmse:36.87238\tvalidation_1-rmse:47.71056\n",
      "[72]\tvalidation_0-rmse:36.63006\tvalidation_1-rmse:47.58735\n",
      "[73]\tvalidation_0-rmse:36.41897\tvalidation_1-rmse:47.41656\n",
      "[74]\tvalidation_0-rmse:36.26543\tvalidation_1-rmse:47.41528\n",
      "[75]\tvalidation_0-rmse:36.16227\tvalidation_1-rmse:47.42387\n",
      "[76]\tvalidation_0-rmse:36.07108\tvalidation_1-rmse:47.38457\n",
      "[77]\tvalidation_0-rmse:35.87105\tvalidation_1-rmse:47.22058\n",
      "[78]\tvalidation_0-rmse:35.73657\tvalidation_1-rmse:47.12314\n",
      "[79]\tvalidation_0-rmse:35.55076\tvalidation_1-rmse:47.13824\n",
      "[80]\tvalidation_0-rmse:35.34307\tvalidation_1-rmse:47.04878\n",
      "[81]\tvalidation_0-rmse:35.11458\tvalidation_1-rmse:46.93107\n",
      "[82]\tvalidation_0-rmse:35.05165\tvalidation_1-rmse:46.90320\n",
      "[83]\tvalidation_0-rmse:34.80330\tvalidation_1-rmse:46.74108\n",
      "[84]\tvalidation_0-rmse:34.63608\tvalidation_1-rmse:46.67326\n",
      "[85]\tvalidation_0-rmse:34.56467\tvalidation_1-rmse:46.63121\n",
      "[86]\tvalidation_0-rmse:34.41703\tvalidation_1-rmse:46.63822\n",
      "[87]\tvalidation_0-rmse:34.33882\tvalidation_1-rmse:46.62101\n",
      "[88]\tvalidation_0-rmse:34.23737\tvalidation_1-rmse:46.63123\n",
      "[89]\tvalidation_0-rmse:34.14707\tvalidation_1-rmse:46.61681\n",
      "[90]\tvalidation_0-rmse:34.03593\tvalidation_1-rmse:46.54730\n",
      "[91]\tvalidation_0-rmse:33.98620\tvalidation_1-rmse:46.50323\n",
      "[92]\tvalidation_0-rmse:33.90982\tvalidation_1-rmse:46.50589\n",
      "[93]\tvalidation_0-rmse:33.79756\tvalidation_1-rmse:46.45557\n",
      "[94]\tvalidation_0-rmse:33.76088\tvalidation_1-rmse:46.43818\n",
      "[95]\tvalidation_0-rmse:33.74668\tvalidation_1-rmse:46.43353\n",
      "[96]\tvalidation_0-rmse:33.55085\tvalidation_1-rmse:46.38709\n",
      "[97]\tvalidation_0-rmse:33.45402\tvalidation_1-rmse:46.36776\n",
      "[98]\tvalidation_0-rmse:33.33176\tvalidation_1-rmse:46.37677\n",
      "[99]\tvalidation_0-rmse:33.27020\tvalidation_1-rmse:46.38809\n",
      "[100]\tvalidation_0-rmse:33.13328\tvalidation_1-rmse:46.27035\n",
      "[101]\tvalidation_0-rmse:32.88454\tvalidation_1-rmse:46.10826\n",
      "[102]\tvalidation_0-rmse:32.65395\tvalidation_1-rmse:45.97607\n",
      "[103]\tvalidation_0-rmse:32.51330\tvalidation_1-rmse:45.95532\n",
      "[104]\tvalidation_0-rmse:32.41885\tvalidation_1-rmse:45.94650\n",
      "[105]\tvalidation_0-rmse:32.33511\tvalidation_1-rmse:45.93333\n",
      "[106]\tvalidation_0-rmse:32.24367\tvalidation_1-rmse:45.85599\n",
      "[107]\tvalidation_0-rmse:32.07045\tvalidation_1-rmse:45.72869\n",
      "[108]\tvalidation_0-rmse:31.96247\tvalidation_1-rmse:45.67359\n",
      "[109]\tvalidation_0-rmse:31.84973\tvalidation_1-rmse:45.61906\n",
      "[110]\tvalidation_0-rmse:31.82142\tvalidation_1-rmse:45.62925\n",
      "[111]\tvalidation_0-rmse:31.75726\tvalidation_1-rmse:45.60243\n",
      "[112]\tvalidation_0-rmse:31.70445\tvalidation_1-rmse:45.58723\n",
      "[113]\tvalidation_0-rmse:31.65613\tvalidation_1-rmse:45.57298\n",
      "[114]\tvalidation_0-rmse:31.63062\tvalidation_1-rmse:45.58478\n",
      "[115]\tvalidation_0-rmse:31.45737\tvalidation_1-rmse:45.49541\n",
      "[116]\tvalidation_0-rmse:31.41490\tvalidation_1-rmse:45.48196\n",
      "[117]\tvalidation_0-rmse:31.39329\tvalidation_1-rmse:45.47740\n",
      "[118]\tvalidation_0-rmse:31.23924\tvalidation_1-rmse:45.44576\n",
      "[119]\tvalidation_0-rmse:31.18696\tvalidation_1-rmse:45.44373\n",
      "[120]\tvalidation_0-rmse:31.10327\tvalidation_1-rmse:45.43793\n",
      "[121]\tvalidation_0-rmse:30.97962\tvalidation_1-rmse:45.41483\n",
      "[122]\tvalidation_0-rmse:30.90242\tvalidation_1-rmse:45.37732\n",
      "[123]\tvalidation_0-rmse:30.66463\tvalidation_1-rmse:45.16391\n",
      "[124]\tvalidation_0-rmse:30.61613\tvalidation_1-rmse:45.17866\n",
      "[125]\tvalidation_0-rmse:30.57689\tvalidation_1-rmse:45.16385\n",
      "[126]\tvalidation_0-rmse:30.49280\tvalidation_1-rmse:45.12437\n",
      "[127]\tvalidation_0-rmse:30.46663\tvalidation_1-rmse:45.13449\n",
      "[128]\tvalidation_0-rmse:30.42352\tvalidation_1-rmse:45.12350\n",
      "[129]\tvalidation_0-rmse:30.33929\tvalidation_1-rmse:45.06847\n",
      "[130]\tvalidation_0-rmse:30.30889\tvalidation_1-rmse:45.07360\n",
      "[131]\tvalidation_0-rmse:30.29102\tvalidation_1-rmse:45.05494\n",
      "[132]\tvalidation_0-rmse:30.27474\tvalidation_1-rmse:45.05243\n",
      "[133]\tvalidation_0-rmse:30.25466\tvalidation_1-rmse:45.05111\n",
      "[134]\tvalidation_0-rmse:30.20455\tvalidation_1-rmse:45.05023\n",
      "[135]\tvalidation_0-rmse:30.08227\tvalidation_1-rmse:45.05260\n",
      "[136]\tvalidation_0-rmse:30.00780\tvalidation_1-rmse:45.04849\n",
      "[137]\tvalidation_0-rmse:29.90634\tvalidation_1-rmse:45.03622\n",
      "[138]\tvalidation_0-rmse:29.85925\tvalidation_1-rmse:45.01258\n",
      "[139]\tvalidation_0-rmse:29.79586\tvalidation_1-rmse:44.99631\n",
      "[140]\tvalidation_0-rmse:29.74292\tvalidation_1-rmse:45.00691\n",
      "[141]\tvalidation_0-rmse:29.58776\tvalidation_1-rmse:44.94566\n",
      "[142]\tvalidation_0-rmse:29.50142\tvalidation_1-rmse:44.92766\n",
      "[143]\tvalidation_0-rmse:29.42831\tvalidation_1-rmse:44.92127\n",
      "[144]\tvalidation_0-rmse:29.31877\tvalidation_1-rmse:44.88320\n",
      "[145]\tvalidation_0-rmse:29.26083\tvalidation_1-rmse:44.87330\n",
      "[146]\tvalidation_0-rmse:29.17093\tvalidation_1-rmse:44.85917\n",
      "[147]\tvalidation_0-rmse:29.12153\tvalidation_1-rmse:44.85520\n",
      "[148]\tvalidation_0-rmse:28.96270\tvalidation_1-rmse:44.80442\n",
      "[149]\tvalidation_0-rmse:28.83072\tvalidation_1-rmse:44.73422\n",
      "[150]\tvalidation_0-rmse:28.77662\tvalidation_1-rmse:44.73071\n",
      "[151]\tvalidation_0-rmse:28.67836\tvalidation_1-rmse:44.72914\n",
      "[152]\tvalidation_0-rmse:28.62843\tvalidation_1-rmse:44.73088\n",
      "[153]\tvalidation_0-rmse:28.55840\tvalidation_1-rmse:44.67628\n",
      "[154]\tvalidation_0-rmse:28.43431\tvalidation_1-rmse:44.63832\n",
      "[155]\tvalidation_0-rmse:28.29525\tvalidation_1-rmse:44.54259\n",
      "[156]\tvalidation_0-rmse:28.19173\tvalidation_1-rmse:44.49275\n",
      "[157]\tvalidation_0-rmse:28.12937\tvalidation_1-rmse:44.49321\n",
      "[158]\tvalidation_0-rmse:28.09650\tvalidation_1-rmse:44.46303\n",
      "[159]\tvalidation_0-rmse:28.06570\tvalidation_1-rmse:44.46600\n",
      "[160]\tvalidation_0-rmse:28.03918\tvalidation_1-rmse:44.45274\n",
      "[161]\tvalidation_0-rmse:27.99176\tvalidation_1-rmse:44.47429\n",
      "[162]\tvalidation_0-rmse:27.91158\tvalidation_1-rmse:44.45379\n",
      "[163]\tvalidation_0-rmse:27.80731\tvalidation_1-rmse:44.39627\n",
      "[164]\tvalidation_0-rmse:27.66705\tvalidation_1-rmse:44.31252\n",
      "[165]\tvalidation_0-rmse:27.59662\tvalidation_1-rmse:44.29085\n",
      "[166]\tvalidation_0-rmse:27.52920\tvalidation_1-rmse:44.26695\n",
      "[167]\tvalidation_0-rmse:27.43328\tvalidation_1-rmse:44.24181\n",
      "[168]\tvalidation_0-rmse:27.41608\tvalidation_1-rmse:44.22995\n",
      "[169]\tvalidation_0-rmse:27.36605\tvalidation_1-rmse:44.18084\n",
      "[170]\tvalidation_0-rmse:27.28550\tvalidation_1-rmse:44.15701\n",
      "[171]\tvalidation_0-rmse:27.14486\tvalidation_1-rmse:44.07388\n",
      "[172]\tvalidation_0-rmse:27.06134\tvalidation_1-rmse:44.02873\n",
      "[173]\tvalidation_0-rmse:26.96328\tvalidation_1-rmse:43.97186\n",
      "[174]\tvalidation_0-rmse:26.85537\tvalidation_1-rmse:43.94026\n",
      "[175]\tvalidation_0-rmse:26.79533\tvalidation_1-rmse:43.88116\n",
      "[176]\tvalidation_0-rmse:26.75832\tvalidation_1-rmse:43.87541\n",
      "[177]\tvalidation_0-rmse:26.69875\tvalidation_1-rmse:43.87463\n",
      "[178]\tvalidation_0-rmse:26.58879\tvalidation_1-rmse:43.83939\n",
      "[179]\tvalidation_0-rmse:26.55208\tvalidation_1-rmse:43.81016\n",
      "[180]\tvalidation_0-rmse:26.51388\tvalidation_1-rmse:43.78776\n",
      "[181]\tvalidation_0-rmse:26.47819\tvalidation_1-rmse:43.78756\n",
      "[182]\tvalidation_0-rmse:26.46843\tvalidation_1-rmse:43.77716\n",
      "[183]\tvalidation_0-rmse:26.42493\tvalidation_1-rmse:43.80120\n",
      "[184]\tvalidation_0-rmse:26.39251\tvalidation_1-rmse:43.78251\n",
      "[185]\tvalidation_0-rmse:26.29750\tvalidation_1-rmse:43.73974\n",
      "[186]\tvalidation_0-rmse:26.15568\tvalidation_1-rmse:43.71122\n",
      "[187]\tvalidation_0-rmse:26.14438\tvalidation_1-rmse:43.71010\n",
      "[188]\tvalidation_0-rmse:26.09780\tvalidation_1-rmse:43.69297\n",
      "[189]\tvalidation_0-rmse:26.03831\tvalidation_1-rmse:43.65727\n",
      "[190]\tvalidation_0-rmse:25.95089\tvalidation_1-rmse:43.61032\n",
      "[191]\tvalidation_0-rmse:25.93223\tvalidation_1-rmse:43.61318\n",
      "[192]\tvalidation_0-rmse:25.88783\tvalidation_1-rmse:43.60164\n",
      "[193]\tvalidation_0-rmse:25.84867\tvalidation_1-rmse:43.60166\n",
      "[194]\tvalidation_0-rmse:25.83017\tvalidation_1-rmse:43.59860\n",
      "[195]\tvalidation_0-rmse:25.76920\tvalidation_1-rmse:43.57447\n",
      "[196]\tvalidation_0-rmse:25.72534\tvalidation_1-rmse:43.55970\n",
      "[197]\tvalidation_0-rmse:25.69166\tvalidation_1-rmse:43.53856\n",
      "[198]\tvalidation_0-rmse:25.66055\tvalidation_1-rmse:43.53701\n",
      "[199]\tvalidation_0-rmse:25.60702\tvalidation_1-rmse:43.52625\n",
      "43.526250691191244\n"
     ]
    }
   ],
   "source": [
    "from xgboost import XGBRegressor\n",
    "from sklearn.metrics import mean_squared_error\n",
    "\n",
    "xgbr = XGBRegressor( n_estimators=200,eval_metric=['rmse'] )\n",
    "\n",
    "xgbr.fit(x_train1,y_train1,eval_set=[[x_train1,y_train1],[x_test1,y_test1]])\n",
    "\n",
    "y_preds_xgb = xgbr.predict(x_test1)\n",
    "   \n",
    "print(np.sqrt(mean_squared_error(y_test1, y_preds_xgb)))"
   ]
  },
  {
   "cell_type": "code",
   "execution_count": 35,
   "id": "e2fcc756",
   "metadata": {
    "execution": {
     "iopub.execute_input": "2023-04-03T14:27:34.917042Z",
     "iopub.status.busy": "2023-04-03T14:27:34.916362Z",
     "iopub.status.idle": "2023-04-03T14:27:35.120111Z",
     "shell.execute_reply": "2023-04-03T14:27:35.119182Z"
    },
    "papermill": {
     "duration": 0.231023,
     "end_time": "2023-04-03T14:27:35.122805",
     "exception": false,
     "start_time": "2023-04-03T14:27:34.891782",
     "status": "completed"
    },
    "tags": []
   },
   "outputs": [],
   "source": [
    "y_pred = xgbr.predict(test_df)"
   ]
  },
  {
   "cell_type": "code",
   "execution_count": 36,
   "id": "53ec9000",
   "metadata": {
    "execution": {
     "iopub.execute_input": "2023-04-03T14:27:35.171424Z",
     "iopub.status.busy": "2023-04-03T14:27:35.170737Z",
     "iopub.status.idle": "2023-04-03T14:27:35.177494Z",
     "shell.execute_reply": "2023-04-03T14:27:35.176163Z"
    },
    "papermill": {
     "duration": 0.032778,
     "end_time": "2023-04-03T14:27:35.179477",
     "exception": false,
     "start_time": "2023-04-03T14:27:35.146699",
     "status": "completed"
    },
    "tags": []
   },
   "outputs": [
    {
     "data": {
      "text/plain": [
       "(72158,)"
      ]
     },
     "execution_count": 36,
     "metadata": {},
     "output_type": "execute_result"
    }
   ],
   "source": [
    "y_pred.shape"
   ]
  },
  {
   "cell_type": "code",
   "execution_count": 37,
   "id": "381f227b",
   "metadata": {
    "execution": {
     "iopub.execute_input": "2023-04-03T14:27:35.227295Z",
     "iopub.status.busy": "2023-04-03T14:27:35.226669Z",
     "iopub.status.idle": "2023-04-03T14:27:35.239103Z",
     "shell.execute_reply": "2023-04-03T14:27:35.238056Z"
    },
    "papermill": {
     "duration": 0.040604,
     "end_time": "2023-04-03T14:27:35.242281",
     "exception": false,
     "start_time": "2023-04-03T14:27:35.201677",
     "status": "completed"
    },
    "tags": []
   },
   "outputs": [],
   "source": [
    "prdeicted_data = test_df1.copy()\n",
    "prdeicted_data['actual_time'] = y_pred"
   ]
  },
  {
   "cell_type": "code",
   "execution_count": 38,
   "id": "5d874e14",
   "metadata": {
    "execution": {
     "iopub.execute_input": "2023-04-03T14:27:35.295514Z",
     "iopub.status.busy": "2023-04-03T14:27:35.294782Z",
     "iopub.status.idle": "2023-04-03T14:27:35.403364Z",
     "shell.execute_reply": "2023-04-03T14:27:35.402224Z"
    },
    "papermill": {
     "duration": 0.138912,
     "end_time": "2023-04-03T14:27:35.406025",
     "exception": false,
     "start_time": "2023-04-03T14:27:35.267113",
     "status": "completed"
    },
    "tags": []
   },
   "outputs": [],
   "source": [
    "newdf = prdeicted_data.iloc[:,[0,-1]]\n",
    "newdf.to_csv('output.csv', index=False)"
   ]
  },
  {
   "cell_type": "code",
   "execution_count": 39,
   "id": "bb6eebee",
   "metadata": {
    "execution": {
     "iopub.execute_input": "2023-04-03T14:27:35.455225Z",
     "iopub.status.busy": "2023-04-03T14:27:35.454532Z",
     "iopub.status.idle": "2023-04-03T14:27:35.464585Z",
     "shell.execute_reply": "2023-04-03T14:27:35.463166Z"
    },
    "papermill": {
     "duration": 0.037411,
     "end_time": "2023-04-03T14:27:35.466852",
     "exception": false,
     "start_time": "2023-04-03T14:27:35.429441",
     "status": "completed"
    },
    "tags": []
   },
   "outputs": [
    {
     "data": {
      "text/html": [
       "<div>\n",
       "<style scoped>\n",
       "    .dataframe tbody tr th:only-of-type {\n",
       "        vertical-align: middle;\n",
       "    }\n",
       "\n",
       "    .dataframe tbody tr th {\n",
       "        vertical-align: top;\n",
       "    }\n",
       "\n",
       "    .dataframe thead th {\n",
       "        text-align: right;\n",
       "    }\n",
       "</style>\n",
       "<table border=\"1\" class=\"dataframe\">\n",
       "  <thead>\n",
       "    <tr style=\"text-align: right;\">\n",
       "      <th></th>\n",
       "      <th>UID</th>\n",
       "      <th>actual_time</th>\n",
       "    </tr>\n",
       "  </thead>\n",
       "  <tbody>\n",
       "    <tr>\n",
       "      <th>0</th>\n",
       "      <td>XMsT9clviB</td>\n",
       "      <td>34.395554</td>\n",
       "    </tr>\n",
       "    <tr>\n",
       "      <th>1</th>\n",
       "      <td>1iUuyRUZ2Y</td>\n",
       "      <td>54.344292</td>\n",
       "    </tr>\n",
       "    <tr>\n",
       "      <th>2</th>\n",
       "      <td>wancwiAIU3</td>\n",
       "      <td>6.460929</td>\n",
       "    </tr>\n",
       "    <tr>\n",
       "      <th>3</th>\n",
       "      <td>1tIt8EwJjB</td>\n",
       "      <td>56.058258</td>\n",
       "    </tr>\n",
       "    <tr>\n",
       "      <th>4</th>\n",
       "      <td>W2vL6bJrjt</td>\n",
       "      <td>30.558201</td>\n",
       "    </tr>\n",
       "  </tbody>\n",
       "</table>\n",
       "</div>"
      ],
      "text/plain": [
       "          UID  actual_time\n",
       "0  XMsT9clviB    34.395554\n",
       "1  1iUuyRUZ2Y    54.344292\n",
       "2  wancwiAIU3     6.460929\n",
       "3  1tIt8EwJjB    56.058258\n",
       "4  W2vL6bJrjt    30.558201"
      ]
     },
     "execution_count": 39,
     "metadata": {},
     "output_type": "execute_result"
    }
   ],
   "source": [
    "newdf.head(5)"
   ]
  },
  {
   "cell_type": "code",
   "execution_count": 40,
   "id": "320ef619",
   "metadata": {
    "execution": {
     "iopub.execute_input": "2023-04-03T14:27:35.512904Z",
     "iopub.status.busy": "2023-04-03T14:27:35.512505Z",
     "iopub.status.idle": "2023-04-03T14:27:35.521351Z",
     "shell.execute_reply": "2023-04-03T14:27:35.520088Z"
    },
    "papermill": {
     "duration": 0.036037,
     "end_time": "2023-04-03T14:27:35.524624",
     "exception": false,
     "start_time": "2023-04-03T14:27:35.488587",
     "status": "completed"
    },
    "tags": []
   },
   "outputs": [
    {
     "data": {
      "text/html": [
       "<a href='output.csv' target='_blank'>output.csv</a><br>"
      ],
      "text/plain": [
       "/kaggle/working/output.csv"
      ]
     },
     "execution_count": 40,
     "metadata": {},
     "output_type": "execute_result"
    }
   ],
   "source": [
    "from IPython.display import FileLink\n",
    "\n",
    "FileLink(r'output.csv')\n"
   ]
  }
 ],
 "metadata": {
  "kernelspec": {
   "display_name": "Python 3",
   "language": "python",
   "name": "python3"
  },
  "language_info": {
   "codemirror_mode": {
    "name": "ipython",
    "version": 3
   },
   "file_extension": ".py",
   "mimetype": "text/x-python",
   "name": "python",
   "nbconvert_exporter": "python",
   "pygments_lexer": "ipython3",
   "version": "3.7.12"
  },
  "papermill": {
   "default_parameters": {},
   "duration": 33.341718,
   "end_time": "2023-04-03T14:27:36.376154",
   "environment_variables": {},
   "exception": null,
   "input_path": "__notebook__.ipynb",
   "output_path": "__notebook__.ipynb",
   "parameters": {},
   "start_time": "2023-04-03T14:27:03.034436",
   "version": "2.4.0"
  }
 },
 "nbformat": 4,
 "nbformat_minor": 5
}
